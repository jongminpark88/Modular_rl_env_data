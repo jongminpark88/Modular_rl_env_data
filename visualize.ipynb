{
 "cells": [
  {
   "cell_type": "code",
   "execution_count": 18,
   "id": "2fc9cc6e",
   "metadata": {},
   "outputs": [],
   "source": [
    "import os, sys, time, importlib\n",
    "from datetime import datetime\n",
    "from typing import Optional, Tuple\n",
    "\n",
    "import numpy as np\n",
    "import imageio\n",
    "from tqdm import tqdm\n",
    "\n",
    "import torch\n",
    "from stable_baselines3 import SAC\n",
    "\n",
    "# 프로젝트 루트 자동 등록 (이 노트북이 collectors/ 안에 있다고 가정)\n",
    "NB_DIR = os.getcwd()\n",
    "PROJ_ROOT = NB_DIR  # 노트북이 프로젝트 루트에 있으므로 그대로 사용\n",
    "if PROJ_ROOT not in sys.path:\n",
    "    sys.path.insert(0, PROJ_ROOT)\n",
    "\n",
    "\n",
    "# 프로젝트 설정 모듈\n",
    "from config import XML_DIR\n",
    "\n",
    "# Gym wrappers\n",
    "from gymnasium.wrappers import TimeLimit\n",
    "from stable_baselines3.common.vec_env import DummyVecEnv\n",
    "from stable_baselines3.common.monitor import Monitor\n"
   ]
  },
  {
   "cell_type": "code",
   "execution_count": 19,
   "id": "29dc997b",
   "metadata": {},
   "outputs": [],
   "source": [
    "def make_env(env_module: str, xml_filename: Optional[str] = None, render_mode: Optional[str] = None, max_episode_steps: int = 2000):\n",
    "    \"\"\"\n",
    "    프로젝트의 커스텀 환경: envs.<env_module>.ModularEnv(xml=..., render_mode=...)\n",
    "    \"\"\"\n",
    "    mod = importlib.import_module(f\"envs.{env_module}\")\n",
    "    EnvCls = getattr(mod, \"ModularEnv\")\n",
    "    if xml_filename is None:\n",
    "        xml_filename = os.path.join(XML_DIR, f\"{env_module}.xml\")\n",
    "    env = EnvCls(xml=xml_filename, render_mode=render_mode)\n",
    "    env = TimeLimit(env, max_episode_steps=max_episode_steps)\n",
    "    return env\n",
    "\n",
    "\n",
    "def wrap_vec_env(env, log_dir: Optional[str] = None):\n",
    "    \"\"\"\n",
    "    SB3 호환을 위한 Monitor + DummyVecEnv 래핑(1-env).\n",
    "    \"\"\"\n",
    "    if log_dir is not None:\n",
    "        os.makedirs(log_dir, exist_ok=True)\n",
    "        env = Monitor(env, filename=os.path.join(log_dir, \"monitor.csv\"))\n",
    "    else:\n",
    "        env = Monitor(env)\n",
    "    return DummyVecEnv([lambda: env])\n"
   ]
  },
  {
   "cell_type": "code",
   "execution_count": 20,
   "id": "64a98950",
   "metadata": {},
   "outputs": [],
   "source": [
    "import numpy as np\n",
    "\n",
    "def _to_cv2_ready(frame):\n",
    "    \"\"\"\n",
    "    env.render()가 반환한 frame을 cv2.putText가 안전하게 처리할 수 있도록 정리:\n",
    "    - dtype: uint8\n",
    "    - 채널: 3채널(RGB) 보장 (RGBA면 알파 제거, 흑백이면 3채널로 반복)\n",
    "    - 연속 메모리(C-contiguous)\n",
    "    - writable 보장\n",
    "    \"\"\"\n",
    "    arr = np.asarray(frame)\n",
    "\n",
    "    # 채널/차원 정리\n",
    "    if arr.ndim == 2:  # 흑백 -> 3채널\n",
    "        arr = np.repeat(arr[..., None], 3, axis=2)\n",
    "    elif arr.ndim == 3 and arr.shape[2] == 4:  # RGBA -> RGB\n",
    "        arr = arr[..., :3]\n",
    "\n",
    "    # dtype 정리\n",
    "    if arr.dtype != np.uint8:\n",
    "        if np.issubdtype(arr.dtype, np.floating):\n",
    "            arr = np.clip(arr * 255.0, 0, 255).astype(np.uint8)\n",
    "        else:\n",
    "            arr = arr.astype(np.uint8)\n",
    "\n",
    "    # 연속/쓰기 가능 보장\n",
    "    if not arr.flags.c_contiguous:\n",
    "        arr = np.ascontiguousarray(arr)\n",
    "    if not arr.flags.writeable:\n",
    "        arr = arr.copy()\n",
    "\n",
    "    return arr\n"
   ]
  },
  {
   "cell_type": "code",
   "execution_count": 21,
   "id": "012550d2",
   "metadata": {},
   "outputs": [],
   "source": [
    "def rollout_video_with_sac(\n",
    "    env_name: str,\n",
    "    checkpoint_path: str,\n",
    "    xml: Optional[str] = None,\n",
    "    steps: int = 2000,\n",
    "    seed: int = 0,\n",
    "    fps: int = 30,\n",
    "    device: str = \"auto\",\n",
    "    out_path: Optional[str] = None,\n",
    "    overlay_return: bool = True,\n",
    "    overlay_font_scale: float = 0.6,\n",
    "    overlay_thickness: int = 1,\n",
    "    break_on_episode_end: bool = True,\n",
    ") -> str:\n",
    "    \"\"\"\n",
    "    SB3 SAC 체크포인트(.zip/.pt)를 로드해 env를 실행하고 mp4(video)로 저장합니다.\n",
    "    - env는 render_mode='rgb_array' 로 생성하여 프레임을 수집합니다.\n",
    "    - overlay_return=True면 누적 리턴을 프레임 좌상단에 오버레이합니다.\n",
    "    - break_on_episode_end=True면 첫 에피소드가 끝나면 영상 저장 후 종료합니다.\n",
    "\n",
    "    Returns\n",
    "    -------\n",
    "    out_path : str\n",
    "        저장된 동영상 경로 (mp4 또는 gif)\n",
    "    \"\"\"\n",
    "    assert os.path.exists(checkpoint_path), f\"Checkpoint not found: {checkpoint_path}\"\n",
    "\n",
    "    # 모델 로드\n",
    "    model = SAC.load(checkpoint_path, device=device)\n",
    "\n",
    "    # 캡처용 env\n",
    "    env = make_env(env_name, xml_filename=xml, render_mode=\"rgb_array\")\n",
    "    # (선택) SB3 내부 state 기대를 위해 vec-env를 연결(필수는 아님, 실패해도 무시)\n",
    "    try:\n",
    "        model.set_env(wrap_vec_env(make_env(env_name, xml_filename=xml, render_mode=None)))\n",
    "    except Exception:\n",
    "        pass\n",
    "\n",
    "    # 파일 경로\n",
    "    ts = datetime.now().strftime(\"%Y%m%d_%H%M%S\")\n",
    "    if out_path is None:\n",
    "        data_dir = os.path.join(PROJ_ROOT, \"data\")\n",
    "        os.makedirs(data_dir, exist_ok=True)\n",
    "        out_path = os.path.join(data_dir, f\"{env_name}_{ts}_inference.mp4\")\n",
    "\n",
    "    # 롤아웃\n",
    "    frames = []\n",
    "    cum_ret = 0.0\n",
    "    obs, info = env.reset(seed=seed)\n",
    "\n",
    "    # 오버레이를 위해 cv2가 있으면 사용, 없으면 텍스트 생략\n",
    "    try:\n",
    "        import cv2\n",
    "        use_cv2 = True\n",
    "    except Exception:\n",
    "        use_cv2 = False\n",
    "        overlay_return = False\n",
    "\n",
    "    pbar = tqdm(total=steps, desc=\"Rollout\", ncols=0)\n",
    "    for t in range(steps):\n",
    "        action, _ = model.predict(obs, deterministic=True)\n",
    "        next_obs, reward, terminated, truncated, info = env.step(action)\n",
    "        cum_ret += float(reward)\n",
    "\n",
    "        frame = env.render()\n",
    "        if frame is not None:\n",
    "            try:\n",
    "                frame = np.flipud(frame)  # 상하 반전된 경우 뒤집기\n",
    "                frame = _to_cv2_ready(frame)  # <-- 새 헬퍼로 변환\n",
    "                if overlay_return:\n",
    "                    txt = f\"step: {t}   return: {cum_ret:.3f}\"\n",
    "                    cv2.putText(frame, txt, (10, 24),\n",
    "                                cv2.FONT_HERSHEY_SIMPLEX, overlay_font_scale,\n",
    "                                (255, 255, 255), overlay_thickness, cv2.LINE_AA)\n",
    "                    cv2.putText(frame, txt, (10, 24),\n",
    "                                cv2.FONT_HERSHEY_SIMPLEX, overlay_font_scale,\n",
    "                                (0, 0, 0), max(1, overlay_thickness - 1), cv2.LINE_AA)\n",
    "            except Exception as e:\n",
    "                print(f\"[WARN] overlay 실패: {e}, 텍스트 없이 저장합니다.\")\n",
    "            frames.append(frame)\n",
    "\n",
    "        done = bool(terminated or truncated)\n",
    "        if done:\n",
    "            if break_on_episode_end:\n",
    "                pbar.update(1)\n",
    "                break\n",
    "            # 다음 에피소드로\n",
    "            obs, info = env.reset()\n",
    "            cum_ret = 0.0\n",
    "        else:\n",
    "            obs = next_obs\n",
    "\n",
    "        pbar.update(1)\n",
    "    pbar.close()\n",
    "\n",
    "    # 저장\n",
    "    if len(frames) == 0:\n",
    "        env.close()\n",
    "        raise RuntimeError(\"수집된 프레임이 없습니다. env.render('rgb_array') 지원 여부를 확인하세요.\")\n",
    "\n",
    "    # mp4 우선 시도, 실패 시 gif\n",
    "    saved = False\n",
    "    try:\n",
    "        imageio.mimsave(out_path, frames, fps=fps)  # mp4는 imageio-ffmpeg 필요\n",
    "        saved = True\n",
    "    except Exception as e:\n",
    "        print(f\"[WARN] mp4 저장 실패: {e}\")\n",
    "\n",
    "    if not saved:\n",
    "        alt = out_path.rsplit(\".\", 1)[0] + \".gif\"\n",
    "        imageio.mimsave(alt, frames, fps=fps)\n",
    "        out_path = alt\n",
    "        print(f\"[OK] GIF로 저장: {out_path}\")\n",
    "    else:\n",
    "        print(f\"[OK] MP4 저장: {out_path}\")\n",
    "\n",
    "    env.close()\n",
    "    return out_path\n"
   ]
  },
  {
   "cell_type": "code",
   "execution_count": 47,
   "id": "a146c9e3",
   "metadata": {},
   "outputs": [],
   "source": [
    "# ===== 사용자 설정 =====\n",
    "ENV_NAME = \"walker_2_main\"      # 예: \"hopper_4\", \"walker_5_main\"\n",
    "XML_PATH = None                      # None이면 config.XML_DIR/<env>.xml 사용\n",
    "CKPT_PATH = \"./checkpoint/walker_2_main_best.pt\"  # 또는 best_model.zip\n",
    "\n",
    "STEPS   = 1000       # 촬영 스텝 수(첫 에피소드 끝나면 중단하도록 설정 가능)\n",
    "SEED    = 88\n",
    "FPS     = 30\n",
    "DEVICE  = \"mps\"     # \"cuda\", \"cuda:0\", \"mps\", \"cpu\", \"auto\"\n",
    "OUT_MP4 = 'video/walker_2_main.mp4'       # None이면 data/ 폴더에 자동 생성\n",
    "BREAK_ON_EP_END = True  # True면 첫 에피소드 종료 시 저장하고 끝냄\n"
   ]
  },
  {
   "cell_type": "code",
   "execution_count": 48,
   "id": "72f81db2",
   "metadata": {},
   "outputs": [
    {
     "name": "stderr",
     "output_type": "stream",
     "text": [
      "Rollout:   1% 14/1000 [00:00<00:07, 136.77it/s]"
     ]
    },
    {
     "name": "stdout",
     "output_type": "stream",
     "text": [
      "You are using a GLFW raw input patch. This is not the official GLFW library.\n"
     ]
    },
    {
     "name": "stderr",
     "output_type": "stream",
     "text": [
      "Rollout:  22% 221/1000 [00:01<00:04, 193.43it/s]\n"
     ]
    },
    {
     "name": "stdout",
     "output_type": "stream",
     "text": [
      "[OK] MP4 저장: video/walker_2_main.mp4\n"
     ]
    },
    {
     "data": {
      "text/plain": [
       "'video/walker_2_main.mp4'"
      ]
     },
     "execution_count": 48,
     "metadata": {},
     "output_type": "execute_result"
    }
   ],
   "source": [
    "out = rollout_video_with_sac(\n",
    "    env_name=ENV_NAME,\n",
    "    checkpoint_path=CKPT_PATH,\n",
    "    xml=XML_PATH,\n",
    "    steps=STEPS,\n",
    "    seed=SEED,\n",
    "    fps=FPS,\n",
    "    device=DEVICE,\n",
    "    out_path=OUT_MP4,\n",
    "    overlay_return=True,\n",
    "    overlay_font_scale=0.6,\n",
    "    overlay_thickness=2,\n",
    "    break_on_episode_end=BREAK_ON_EP_END,\n",
    ")\n",
    "out\n"
   ]
  },
  {
   "cell_type": "code",
   "execution_count": 34,
   "id": "d1fb03f8",
   "metadata": {},
   "outputs": [],
   "source": [
    "# ===== 사용자 설정 =====\n",
    "ENV_NAME = \"walker_3_main\"      # 예: \"hopper_4\", \"walker_5_main\"\n",
    "XML_PATH = None                      # None이면 config.XML_DIR/<env>.xml 사용\n",
    "CKPT_PATH = \"./checkpoint/walker_3_main_best.pt\"  # 또는 best_model.zip\n",
    "\n",
    "STEPS   = 1000       # 촬영 스텝 수(첫 에피소드 끝나면 중단하도록 설정 가능)\n",
    "SEED    = 88\n",
    "FPS     = 30\n",
    "DEVICE  = \"mps\"     # \"cuda\", \"cuda:0\", \"mps\", \"cpu\", \"auto\"\n",
    "OUT_MP4 = 'video/walker_3_main.mp4'       # None이면 data/ 폴더에 자동 생성\n",
    "BREAK_ON_EP_END = False  # True면 첫 에피소드 종료 시 저장하고 끝냄\n"
   ]
  },
  {
   "cell_type": "code",
   "execution_count": 35,
   "id": "493d4aa6",
   "metadata": {},
   "outputs": [
    {
     "name": "stderr",
     "output_type": "stream",
     "text": [
      "Rollout:   1% 9/1000 [00:00<00:11, 87.76it/s]"
     ]
    },
    {
     "name": "stdout",
     "output_type": "stream",
     "text": [
      "You are using a GLFW raw input patch. This is not the official GLFW library.\n"
     ]
    },
    {
     "name": "stderr",
     "output_type": "stream",
     "text": [
      "Rollout: 100% 1000/1000 [00:05<00:00, 180.58it/s]\n"
     ]
    },
    {
     "name": "stdout",
     "output_type": "stream",
     "text": [
      "[OK] MP4 저장: video/walker_3_main.mp4\n"
     ]
    },
    {
     "data": {
      "text/plain": [
       "'video/walker_3_main.mp4'"
      ]
     },
     "execution_count": 35,
     "metadata": {},
     "output_type": "execute_result"
    }
   ],
   "source": [
    "out = rollout_video_with_sac(\n",
    "    env_name=ENV_NAME,\n",
    "    checkpoint_path=CKPT_PATH,\n",
    "    xml=XML_PATH,\n",
    "    steps=STEPS,\n",
    "    seed=SEED,\n",
    "    fps=FPS,\n",
    "    device=DEVICE,\n",
    "    out_path=OUT_MP4,\n",
    "    overlay_return=True,\n",
    "    overlay_font_scale=0.6,\n",
    "    overlay_thickness=2,\n",
    "    break_on_episode_end=BREAK_ON_EP_END,\n",
    ")\n",
    "out\n"
   ]
  },
  {
   "cell_type": "code",
   "execution_count": 37,
   "id": "8e8f74a5",
   "metadata": {},
   "outputs": [],
   "source": [
    "# ===== 사용자 설정 =====\n",
    "ENV_NAME = \"walker_4_main\"      # 예: \"hopper_4\", \"walker_5_main\"\n",
    "XML_PATH = None                      # None이면 config.XML_DIR/<env>.xml 사용\n",
    "CKPT_PATH = \"./checkpoint/walker_4_main_best.pt\"  # 또는 best_model.zip\n",
    "\n",
    "STEPS   = 1000       # 촬영 스텝 수(첫 에피소드 끝나면 중단하도록 설정 가능)\n",
    "SEED    = 88\n",
    "FPS     = 30\n",
    "DEVICE  = \"mps\"     # \"cuda\", \"cuda:0\", \"mps\", \"cpu\", \"auto\"\n",
    "OUT_MP4 = 'video/walker_4_main.mp4'       # None이면 data/ 폴더에 자동 생성\n",
    "BREAK_ON_EP_END = False  # True면 첫 에피소드 종료 시 저장하고 끝냄\n"
   ]
  },
  {
   "cell_type": "code",
   "execution_count": 38,
   "id": "fd00422f",
   "metadata": {},
   "outputs": [
    {
     "name": "stderr",
     "output_type": "stream",
     "text": [
      "Rollout:   2% 17/1000 [00:00<00:14, 67.75it/s]"
     ]
    },
    {
     "name": "stdout",
     "output_type": "stream",
     "text": [
      "You are using a GLFW raw input patch. This is not the official GLFW library.\n"
     ]
    },
    {
     "name": "stderr",
     "output_type": "stream",
     "text": [
      "Rollout: 100% 1000/1000 [00:06<00:00, 165.93it/s]\n"
     ]
    },
    {
     "name": "stdout",
     "output_type": "stream",
     "text": [
      "[OK] MP4 저장: video/walker_4_main.mp4\n"
     ]
    },
    {
     "data": {
      "text/plain": [
       "'video/walker_4_main.mp4'"
      ]
     },
     "execution_count": 38,
     "metadata": {},
     "output_type": "execute_result"
    }
   ],
   "source": [
    "out = rollout_video_with_sac(\n",
    "    env_name=ENV_NAME,\n",
    "    checkpoint_path=CKPT_PATH,\n",
    "    xml=XML_PATH,\n",
    "    steps=STEPS,\n",
    "    seed=SEED,\n",
    "    fps=FPS,\n",
    "    device=DEVICE,\n",
    "    out_path=OUT_MP4,\n",
    "    overlay_return=True,\n",
    "    overlay_font_scale=0.6,\n",
    "    overlay_thickness=2,\n",
    "    break_on_episode_end=BREAK_ON_EP_END,\n",
    ")\n",
    "out\n"
   ]
  },
  {
   "cell_type": "code",
   "execution_count": 24,
   "id": "cd9a41ae",
   "metadata": {},
   "outputs": [],
   "source": [
    "# ===== 사용자 설정 =====\n",
    "ENV_NAME = \"walker_5_main\"      # 예: \"hopper_4\", \"walker_5_main\"\n",
    "XML_PATH = None                      # None이면 config.XML_DIR/<env>.xml 사용\n",
    "CKPT_PATH = \"./checkpoint/walker_5_main_best.pt\"  # 또는 best_model.zip\n",
    "\n",
    "STEPS   = 1000       # 촬영 스텝 수(첫 에피소드 끝나면 중단하도록 설정 가능)\n",
    "SEED    = 88\n",
    "FPS     = 30\n",
    "DEVICE  = \"mps\"     # \"cuda\", \"cuda:0\", \"mps\", \"cpu\", \"auto\"\n",
    "OUT_MP4 = 'video/walker_5_main.mp4'       # None이면 data/ 폴더에 자동 생성\n",
    "BREAK_ON_EP_END = False  # True면 첫 에피소드 종료 시 저장하고 끝냄\n"
   ]
  },
  {
   "cell_type": "code",
   "execution_count": 25,
   "id": "07c0e3ae",
   "metadata": {},
   "outputs": [
    {
     "name": "stderr",
     "output_type": "stream",
     "text": [
      "Rollout:   3% 33/1000 [00:00<00:05, 167.33it/s]"
     ]
    },
    {
     "name": "stdout",
     "output_type": "stream",
     "text": [
      "You are using a GLFW raw input patch. This is not the official GLFW library.\n"
     ]
    },
    {
     "name": "stderr",
     "output_type": "stream",
     "text": [
      "Rollout: 100% 1000/1000 [00:05<00:00, 185.49it/s]\n"
     ]
    },
    {
     "name": "stdout",
     "output_type": "stream",
     "text": [
      "[OK] MP4 저장: video/walker_5_main.mp4\n"
     ]
    },
    {
     "data": {
      "text/plain": [
       "'video/walker_5_main.mp4'"
      ]
     },
     "execution_count": 25,
     "metadata": {},
     "output_type": "execute_result"
    }
   ],
   "source": [
    "out = rollout_video_with_sac(\n",
    "    env_name=ENV_NAME,\n",
    "    checkpoint_path=CKPT_PATH,\n",
    "    xml=XML_PATH,\n",
    "    steps=STEPS,\n",
    "    seed=SEED,\n",
    "    fps=FPS,\n",
    "    device=DEVICE,\n",
    "    out_path=OUT_MP4,\n",
    "    overlay_return=True,\n",
    "    overlay_font_scale=0.6,\n",
    "    overlay_thickness=2,\n",
    "    break_on_episode_end=BREAK_ON_EP_END,\n",
    ")\n",
    "out\n"
   ]
  },
  {
   "cell_type": "code",
   "execution_count": 32,
   "id": "f264978a",
   "metadata": {},
   "outputs": [],
   "source": [
    "# ===== 사용자 설정 =====\n",
    "ENV_NAME = \"walker_6_main\"      # 예: \"hopper_4\", \"walker_5_main\"\n",
    "XML_PATH = None                      # None이면 config.XML_DIR/<env>.xml 사용\n",
    "CKPT_PATH = \"./checkpoint/walker_6_main_best.pt\"  # 또는 best_model.zip\n",
    "\n",
    "STEPS   = 1000       # 촬영 스텝 수(첫 에피소드 끝나면 중단하도록 설정 가능)\n",
    "SEED    = 88\n",
    "FPS     = 30\n",
    "DEVICE  = \"mps\"     # \"cuda\", \"cuda:0\", \"mps\", \"cpu\", \"auto\"\n",
    "OUT_MP4 = 'video/walker_6_main.mp4'       # None이면 data/ 폴더에 자동 생성\n",
    "BREAK_ON_EP_END = False  # True면 첫 에피소드 종료 시 저장하고 끝냄\n"
   ]
  },
  {
   "cell_type": "code",
   "execution_count": 33,
   "id": "6ee5d72a",
   "metadata": {},
   "outputs": [
    {
     "name": "stderr",
     "output_type": "stream",
     "text": [
      "Rollout:   2% 17/1000 [00:00<00:14, 66.76it/s]"
     ]
    },
    {
     "name": "stdout",
     "output_type": "stream",
     "text": [
      "You are using a GLFW raw input patch. This is not the official GLFW library.\n"
     ]
    },
    {
     "name": "stderr",
     "output_type": "stream",
     "text": [
      "Rollout: 100% 1000/1000 [00:05<00:00, 170.23it/s]\n"
     ]
    },
    {
     "name": "stdout",
     "output_type": "stream",
     "text": [
      "[OK] MP4 저장: video/walker_6_main.mp4\n"
     ]
    },
    {
     "data": {
      "text/plain": [
       "'video/walker_6_main.mp4'"
      ]
     },
     "execution_count": 33,
     "metadata": {},
     "output_type": "execute_result"
    }
   ],
   "source": [
    "out = rollout_video_with_sac(\n",
    "    env_name=ENV_NAME,\n",
    "    checkpoint_path=CKPT_PATH,\n",
    "    xml=XML_PATH,\n",
    "    steps=STEPS,\n",
    "    seed=SEED,\n",
    "    fps=FPS,\n",
    "    device=DEVICE,\n",
    "    out_path=OUT_MP4,\n",
    "    overlay_return=True,\n",
    "    overlay_font_scale=0.6,\n",
    "    overlay_thickness=2,\n",
    "    break_on_episode_end=BREAK_ON_EP_END,\n",
    ")\n",
    "out\n"
   ]
  },
  {
   "cell_type": "code",
   "execution_count": 39,
   "id": "99d3ea5a",
   "metadata": {},
   "outputs": [],
   "source": [
    "# ===== 사용자 설정 =====\n",
    "ENV_NAME = \"walker_7_main\"      # 예: \"hopper_4\", \"walker_5_main\"\n",
    "XML_PATH = None                      # None이면 config.XML_DIR/<env>.xml 사용\n",
    "CKPT_PATH = \"./checkpoint/walker_7_main_best.pt\"  # 또는 best_model.zip\n",
    "\n",
    "STEPS   = 1000       # 촬영 스텝 수(첫 에피소드 끝나면 중단하도록 설정 가능)\n",
    "SEED    = 88\n",
    "FPS     = 30\n",
    "DEVICE  = \"mps\"     # \"cuda\", \"cuda:0\", \"mps\", \"cpu\", \"auto\"\n",
    "OUT_MP4 = 'video/walker_7_main.mp4'       # None이면 data/ 폴더에 자동 생성\n",
    "BREAK_ON_EP_END = False  # True면 첫 에피소드 종료 시 저장하고 끝냄\n"
   ]
  },
  {
   "cell_type": "code",
   "execution_count": 40,
   "id": "d6852c66",
   "metadata": {},
   "outputs": [
    {
     "name": "stderr",
     "output_type": "stream",
     "text": [
      "Rollout:   2% 16/1000 [00:00<00:15, 62.09it/s]"
     ]
    },
    {
     "name": "stdout",
     "output_type": "stream",
     "text": [
      "You are using a GLFW raw input patch. This is not the official GLFW library.\n"
     ]
    },
    {
     "name": "stderr",
     "output_type": "stream",
     "text": [
      "Rollout: 100% 1000/1000 [00:05<00:00, 168.94it/s]\n"
     ]
    },
    {
     "name": "stdout",
     "output_type": "stream",
     "text": [
      "[OK] MP4 저장: video/walker_7_main.mp4\n"
     ]
    },
    {
     "data": {
      "text/plain": [
       "'video/walker_7_main.mp4'"
      ]
     },
     "execution_count": 40,
     "metadata": {},
     "output_type": "execute_result"
    }
   ],
   "source": [
    "out = rollout_video_with_sac(\n",
    "    env_name=ENV_NAME,\n",
    "    checkpoint_path=CKPT_PATH,\n",
    "    xml=XML_PATH,\n",
    "    steps=STEPS,\n",
    "    seed=SEED,\n",
    "    fps=FPS,\n",
    "    device=DEVICE,\n",
    "    out_path=OUT_MP4,\n",
    "    overlay_return=True,\n",
    "    overlay_font_scale=0.6,\n",
    "    overlay_thickness=2,\n",
    "    break_on_episode_end=BREAK_ON_EP_END,\n",
    ")\n",
    "out\n"
   ]
  },
  {
   "cell_type": "code",
   "execution_count": 26,
   "id": "bc3aec5e",
   "metadata": {},
   "outputs": [],
   "source": [
    "# ===== 사용자 설정 =====\n",
    "ENV_NAME = \"hopper_3\"      # 예: \"hopper_4\", \"walker_5_main\"\n",
    "XML_PATH = None                      # None이면 config.XML_DIR/<env>.xml 사용\n",
    "CKPT_PATH = \"./checkpoint/hopper_3_best_tmp/best_model.zip\"  # 또는 best_model.zip\n",
    "\n",
    "STEPS   = 1000       # 촬영 스텝 수(첫 에피소드 끝나면 중단하도록 설정 가능)\n",
    "SEED    = 88\n",
    "FPS     = 30\n",
    "DEVICE  = \"mps\"     # \"cuda\", \"cuda:0\", \"mps\", \"cpu\", \"auto\"\n",
    "OUT_MP4 = 'video/hopper_3.mp4'       # None이면 data/ 폴더에 자동 생성\n",
    "BREAK_ON_EP_END = False  # True면 첫 에피소드 종료 시 저장하고 끝냄\n"
   ]
  },
  {
   "cell_type": "code",
   "execution_count": 27,
   "id": "9f64eea8",
   "metadata": {},
   "outputs": [
    {
     "name": "stderr",
     "output_type": "stream",
     "text": [
      "Rollout:   1% 9/1000 [00:00<00:11, 83.62it/s]"
     ]
    },
    {
     "name": "stdout",
     "output_type": "stream",
     "text": [
      "You are using a GLFW raw input patch. This is not the official GLFW library.\n"
     ]
    },
    {
     "name": "stderr",
     "output_type": "stream",
     "text": [
      "Rollout: 100% 1000/1000 [00:06<00:00, 152.75it/s]\n"
     ]
    },
    {
     "name": "stdout",
     "output_type": "stream",
     "text": [
      "[OK] MP4 저장: video/hopper_3.mp4\n"
     ]
    },
    {
     "data": {
      "text/plain": [
       "'video/hopper_3.mp4'"
      ]
     },
     "execution_count": 27,
     "metadata": {},
     "output_type": "execute_result"
    }
   ],
   "source": [
    "out = rollout_video_with_sac(\n",
    "    env_name=ENV_NAME,\n",
    "    checkpoint_path=CKPT_PATH,\n",
    "    xml=XML_PATH,\n",
    "    steps=STEPS,\n",
    "    seed=SEED,\n",
    "    fps=FPS,\n",
    "    device=DEVICE,\n",
    "    out_path=OUT_MP4,\n",
    "    overlay_return=True,\n",
    "    overlay_font_scale=0.6,\n",
    "    overlay_thickness=2,\n",
    "    break_on_episode_end=BREAK_ON_EP_END,\n",
    ")\n",
    "out\n"
   ]
  },
  {
   "cell_type": "code",
   "execution_count": 41,
   "id": "a80ffda3",
   "metadata": {},
   "outputs": [],
   "source": [
    "# ===== 사용자 설정 =====\n",
    "ENV_NAME = \"hopper_4\"      # 예: \"hopper_4\", \"walker_5_main\"\n",
    "XML_PATH = None                      # None이면 config.XML_DIR/<env>.xml 사용\n",
    "CKPT_PATH = \"./checkpoint/hopper_4_best_tmp/best_model.zip\"  # 또는 best_model.zip\n",
    "\n",
    "STEPS   = 1000       # 촬영 스텝 수(첫 에피소드 끝나면 중단하도록 설정 가능)\n",
    "SEED    = 88\n",
    "FPS     = 30\n",
    "DEVICE  = \"mps\"     # \"cuda\", \"cuda:0\", \"mps\", \"cpu\", \"auto\"\n",
    "OUT_MP4 = 'video/hopper_4.mp4'       # None이면 data/ 폴더에 자동 생성\n",
    "BREAK_ON_EP_END = False  # True면 첫 에피소드 종료 시 저장하고 끝냄\n"
   ]
  },
  {
   "cell_type": "code",
   "execution_count": 42,
   "id": "133ff6f3",
   "metadata": {},
   "outputs": [
    {
     "name": "stderr",
     "output_type": "stream",
     "text": [
      "Rollout:   1% 8/1000 [00:00<00:12, 76.86it/s]"
     ]
    },
    {
     "name": "stdout",
     "output_type": "stream",
     "text": [
      "You are using a GLFW raw input patch. This is not the official GLFW library.\n"
     ]
    },
    {
     "name": "stderr",
     "output_type": "stream",
     "text": [
      "Rollout: 100% 1000/1000 [00:06<00:00, 150.78it/s]\n"
     ]
    },
    {
     "name": "stdout",
     "output_type": "stream",
     "text": [
      "[OK] MP4 저장: video/hopper_4.mp4\n"
     ]
    },
    {
     "data": {
      "text/plain": [
       "'video/hopper_4.mp4'"
      ]
     },
     "execution_count": 42,
     "metadata": {},
     "output_type": "execute_result"
    }
   ],
   "source": [
    "out = rollout_video_with_sac(\n",
    "    env_name=ENV_NAME,\n",
    "    checkpoint_path=CKPT_PATH,\n",
    "    xml=XML_PATH,\n",
    "    steps=STEPS,\n",
    "    seed=SEED,\n",
    "    fps=FPS,\n",
    "    device=DEVICE,\n",
    "    out_path=OUT_MP4,\n",
    "    overlay_return=True,\n",
    "    overlay_font_scale=0.6,\n",
    "    overlay_thickness=2,\n",
    "    break_on_episode_end=BREAK_ON_EP_END,\n",
    ")\n",
    "out\n"
   ]
  },
  {
   "cell_type": "code",
   "execution_count": 28,
   "id": "28993546",
   "metadata": {},
   "outputs": [],
   "source": [
    "# ===== 사용자 설정 =====\n",
    "ENV_NAME = \"hopper_5\"      # 예: \"hopper_4\", \"walker_5_main\"\n",
    "XML_PATH = None                      # None이면 config.XML_DIR/<env>.xml 사용\n",
    "CKPT_PATH = \"./checkpoint/hopper_5_best_tmp/best_model.zip\"  # 또는 best_model.zip\n",
    "\n",
    "STEPS   = 1000       # 촬영 스텝 수(첫 에피소드 끝나면 중단하도록 설정 가능)\n",
    "SEED    = 88\n",
    "FPS     = 30\n",
    "DEVICE  = \"mps\"     # \"cuda\", \"cuda:0\", \"mps\", \"cpu\", \"auto\"\n",
    "OUT_MP4 = 'video/hopper_5.mp4'       # None이면 data/ 폴더에 자동 생성\n",
    "BREAK_ON_EP_END = False  # True면 첫 에피소드 종료 시 저장하고 끝냄\n"
   ]
  },
  {
   "cell_type": "code",
   "execution_count": 29,
   "id": "54fa84c9",
   "metadata": {},
   "outputs": [
    {
     "name": "stderr",
     "output_type": "stream",
     "text": [
      "Rollout:   2% 22/1000 [00:00<00:08, 114.14it/s]"
     ]
    },
    {
     "name": "stdout",
     "output_type": "stream",
     "text": [
      "You are using a GLFW raw input patch. This is not the official GLFW library.\n"
     ]
    },
    {
     "name": "stderr",
     "output_type": "stream",
     "text": [
      "Rollout: 100% 1000/1000 [00:06<00:00, 150.49it/s]\n"
     ]
    },
    {
     "name": "stdout",
     "output_type": "stream",
     "text": [
      "[OK] MP4 저장: video/hopper_5.mp4\n"
     ]
    },
    {
     "data": {
      "text/plain": [
       "'video/hopper_5.mp4'"
      ]
     },
     "execution_count": 29,
     "metadata": {},
     "output_type": "execute_result"
    }
   ],
   "source": [
    "out = rollout_video_with_sac(\n",
    "    env_name=ENV_NAME,\n",
    "    checkpoint_path=CKPT_PATH,\n",
    "    xml=XML_PATH,\n",
    "    steps=STEPS,\n",
    "    seed=SEED,\n",
    "    fps=FPS,\n",
    "    device=DEVICE,\n",
    "    out_path=OUT_MP4,\n",
    "    overlay_return=True,\n",
    "    overlay_font_scale=0.6,\n",
    "    overlay_thickness=2,\n",
    "    break_on_episode_end=BREAK_ON_EP_END,\n",
    ")\n",
    "out\n"
   ]
  },
  {
   "cell_type": "code",
   "execution_count": 43,
   "id": "8061f9ec",
   "metadata": {},
   "outputs": [],
   "source": [
    "# ===== 사용자 설정 =====\n",
    "ENV_NAME = \"cheetah_3_balanced\"      # 예: \"hopper_4\", \"walker_5_main\"\n",
    "XML_PATH = None                      # None이면 config.XML_DIR/<env>.xml 사용\n",
    "CKPT_PATH = \"./checkpoint/cheetah_3_balanced_best_tmp/best_model.zip\"  # 또는 best_model.zip\n",
    "\n",
    "STEPS   = 1000       # 촬영 스텝 수(첫 에피소드 끝나면 중단하도록 설정 가능)\n",
    "SEED    = 88\n",
    "FPS     = 30\n",
    "DEVICE  = \"mps\"     # \"cuda\", \"cuda:0\", \"mps\", \"cpu\", \"auto\"\n",
    "OUT_MP4 = 'video/cheetah_3_balanced.mp4'       # None이면 data/ 폴더에 자동 생성\n",
    "BREAK_ON_EP_END = False  # True면 첫 에피소드 종료 시 저장하고 끝냄\n"
   ]
  },
  {
   "cell_type": "code",
   "execution_count": 44,
   "id": "eb7dcbfe",
   "metadata": {},
   "outputs": [
    {
     "name": "stderr",
     "output_type": "stream",
     "text": [
      "Rollout:   1% 12/1000 [00:00<00:08, 118.13it/s]"
     ]
    },
    {
     "name": "stdout",
     "output_type": "stream",
     "text": [
      "You are using a GLFW raw input patch. This is not the official GLFW library.\n"
     ]
    },
    {
     "name": "stderr",
     "output_type": "stream",
     "text": [
      "Rollout: 100% 1000/1000 [00:05<00:00, 189.60it/s]\n"
     ]
    },
    {
     "name": "stdout",
     "output_type": "stream",
     "text": [
      "[OK] MP4 저장: video/cheetah_3_balanced.mp4\n"
     ]
    },
    {
     "data": {
      "text/plain": [
       "'video/cheetah_3_balanced.mp4'"
      ]
     },
     "execution_count": 44,
     "metadata": {},
     "output_type": "execute_result"
    }
   ],
   "source": [
    "out = rollout_video_with_sac(\n",
    "    env_name=ENV_NAME,\n",
    "    checkpoint_path=CKPT_PATH,\n",
    "    xml=XML_PATH,\n",
    "    steps=STEPS,\n",
    "    seed=SEED,\n",
    "    fps=FPS,\n",
    "    device=DEVICE,\n",
    "    out_path=OUT_MP4,\n",
    "    overlay_return=True,\n",
    "    overlay_font_scale=0.6,\n",
    "    overlay_thickness=2,\n",
    "    break_on_episode_end=BREAK_ON_EP_END,\n",
    ")\n",
    "out\n"
   ]
  },
  {
   "cell_type": "code",
   "execution_count": 30,
   "id": "74a99797",
   "metadata": {},
   "outputs": [],
   "source": [
    "# ===== 사용자 설정 =====\n",
    "ENV_NAME = \"cheetah_5_balanced\"      # 예: \"hopper_4\", \"walker_5_main\"\n",
    "XML_PATH = None                      # None이면 config.XML_DIR/<env>.xml 사용\n",
    "CKPT_PATH = \"./checkpoint/cheetah_5_balanced_best_tmp/best_model.zip\"  # 또는 best_model.zip\n",
    "\n",
    "STEPS   = 1000       # 촬영 스텝 수(첫 에피소드 끝나면 중단하도록 설정 가능)\n",
    "SEED    = 88\n",
    "FPS     = 30\n",
    "DEVICE  = \"mps\"     # \"cuda\", \"cuda:0\", \"mps\", \"cpu\", \"auto\"\n",
    "OUT_MP4 = 'video/cheetah_5_balanced.mp4'       # None이면 data/ 폴더에 자동 생성\n",
    "BREAK_ON_EP_END = False  # True면 첫 에피소드 종료 시 저장하고 끝냄\n"
   ]
  },
  {
   "cell_type": "code",
   "execution_count": 31,
   "id": "28eb8257",
   "metadata": {},
   "outputs": [
    {
     "name": "stderr",
     "output_type": "stream",
     "text": [
      "Rollout:   3% 31/1000 [00:00<00:06, 157.56it/s]"
     ]
    },
    {
     "name": "stdout",
     "output_type": "stream",
     "text": [
      "You are using a GLFW raw input patch. This is not the official GLFW library.\n"
     ]
    },
    {
     "name": "stderr",
     "output_type": "stream",
     "text": [
      "Rollout: 100% 1000/1000 [00:05<00:00, 191.85it/s]\n"
     ]
    },
    {
     "name": "stdout",
     "output_type": "stream",
     "text": [
      "[OK] MP4 저장: video/cheetah_5_balanced.mp4\n"
     ]
    },
    {
     "data": {
      "text/plain": [
       "'video/cheetah_5_balanced.mp4'"
      ]
     },
     "execution_count": 31,
     "metadata": {},
     "output_type": "execute_result"
    }
   ],
   "source": [
    "out = rollout_video_with_sac(\n",
    "    env_name=ENV_NAME,\n",
    "    checkpoint_path=CKPT_PATH,\n",
    "    xml=XML_PATH,\n",
    "    steps=STEPS,\n",
    "    seed=SEED,\n",
    "    fps=FPS,\n",
    "    device=DEVICE,\n",
    "    out_path=OUT_MP4,\n",
    "    overlay_return=True,\n",
    "    overlay_font_scale=0.6,\n",
    "    overlay_thickness=2,\n",
    "    break_on_episode_end=BREAK_ON_EP_END,\n",
    ")\n",
    "out\n"
   ]
  },
  {
   "cell_type": "code",
   "execution_count": 45,
   "id": "c44d9c6f",
   "metadata": {},
   "outputs": [],
   "source": [
    "# ===== 사용자 설정 =====\n",
    "ENV_NAME = \"cheetah_7_full\"      # 예: \"hopper_4\", \"walker_5_main\"\n",
    "XML_PATH = None                      # None이면 config.XML_DIR/<env>.xml 사용\n",
    "CKPT_PATH = \"./checkpoint/cheetah_7_full_best_tmp/best_model.zip\"  # 또는 best_model.zip\n",
    "\n",
    "STEPS   = 1000       # 촬영 스텝 수(첫 에피소드 끝나면 중단하도록 설정 가능)\n",
    "SEED    = 88\n",
    "FPS     = 30\n",
    "DEVICE  = \"mps\"     # \"cuda\", \"cuda:0\", \"mps\", \"cpu\", \"auto\"\n",
    "OUT_MP4 = 'video/cheetah_7_full.mp4'       # None이면 data/ 폴더에 자동 생성\n",
    "BREAK_ON_EP_END = False  # True면 첫 에피소드 종료 시 저장하고 끝냄\n"
   ]
  },
  {
   "cell_type": "code",
   "execution_count": 46,
   "id": "d880d347",
   "metadata": {},
   "outputs": [
    {
     "name": "stderr",
     "output_type": "stream",
     "text": [
      "Rollout:   3% 29/1000 [00:00<00:06, 147.73it/s]"
     ]
    },
    {
     "name": "stdout",
     "output_type": "stream",
     "text": [
      "You are using a GLFW raw input patch. This is not the official GLFW library.\n"
     ]
    },
    {
     "name": "stderr",
     "output_type": "stream",
     "text": [
      "Rollout: 100% 1000/1000 [00:05<00:00, 180.90it/s]\n"
     ]
    },
    {
     "name": "stdout",
     "output_type": "stream",
     "text": [
      "[OK] MP4 저장: video/cheetah_7_full.mp4\n"
     ]
    },
    {
     "data": {
      "text/plain": [
       "'video/cheetah_7_full.mp4'"
      ]
     },
     "execution_count": 46,
     "metadata": {},
     "output_type": "execute_result"
    }
   ],
   "source": [
    "out = rollout_video_with_sac(\n",
    "    env_name=ENV_NAME,\n",
    "    checkpoint_path=CKPT_PATH,\n",
    "    xml=XML_PATH,\n",
    "    steps=STEPS,\n",
    "    seed=SEED,\n",
    "    fps=FPS,\n",
    "    device=DEVICE,\n",
    "    out_path=OUT_MP4,\n",
    "    overlay_return=True,\n",
    "    overlay_font_scale=0.6,\n",
    "    overlay_thickness=2,\n",
    "    break_on_episode_end=BREAK_ON_EP_END,\n",
    ")\n",
    "out\n"
   ]
  },
  {
   "cell_type": "code",
   "execution_count": null,
   "id": "1f46a8f2",
   "metadata": {},
   "outputs": [],
   "source": []
  }
 ],
 "metadata": {
  "kernelspec": {
   "display_name": "gymdata",
   "language": "python",
   "name": "python3"
  },
  "language_info": {
   "codemirror_mode": {
    "name": "ipython",
    "version": 3
   },
   "file_extension": ".py",
   "mimetype": "text/x-python",
   "name": "python",
   "nbconvert_exporter": "python",
   "pygments_lexer": "ipython3",
   "version": "3.10.18"
  }
 },
 "nbformat": 4,
 "nbformat_minor": 5
}
