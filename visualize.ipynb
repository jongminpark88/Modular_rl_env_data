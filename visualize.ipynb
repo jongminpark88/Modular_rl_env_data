{
 "cells": [
  {
   "cell_type": "code",
   "execution_count": 1,
   "id": "2fc9cc6e",
   "metadata": {},
   "outputs": [],
   "source": [
    "import os, sys, time, importlib\n",
    "os.environ.setdefault(\"MUJOCO_GL\", \"egl\")         # MuJoCo가 EGL 백엔드 사용\n",
    "os.environ.setdefault(\"PYOPENGL_PLATFORM\", \"egl\") # PyOpenGL도 EGL 강제\n",
    "\n",
    "from datetime import datetime\n",
    "from typing import Optional, Tuple\n",
    "\n",
    "import numpy as np\n",
    "import imageio\n",
    "from tqdm import tqdm\n",
    "import os\n",
    "from glob import glob\n",
    "\n",
    "import torch\n",
    "from stable_baselines3 import SAC\n",
    "\n",
    "# 프로젝트 루트 자동 등록 (이 노트북이 collectors/ 안에 있다고 가정)\n",
    "NB_DIR = os.getcwd()\n",
    "PROJ_ROOT = NB_DIR  # 노트북이 프로젝트 루트에 있으므로 그대로 사용\n",
    "if PROJ_ROOT not in sys.path:\n",
    "    sys.path.insert(0, PROJ_ROOT)\n",
    "\n",
    "\n",
    "# 프로젝트 설정 모듈\n",
    "from config import XML_DIR\n",
    "\n",
    "# Gym wrappers\n",
    "from gymnasium.wrappers import TimeLimit\n",
    "from stable_baselines3.common.vec_env import DummyVecEnv\n",
    "from stable_baselines3.common.monitor import Monitor\n"
   ]
  },
  {
   "cell_type": "code",
   "execution_count": 2,
   "id": "29dc997b",
   "metadata": {},
   "outputs": [],
   "source": [
    "def make_env(env_module: str, xml_filename: Optional[str] = None, render_mode: Optional[str] = None, max_episode_steps: int = 2000):\n",
    "    \"\"\"\n",
    "    프로젝트의 커스텀 환경: envs.<env_module>.ModularEnv(xml=..., render_mode=...)\n",
    "    \"\"\"\n",
    "    mod = importlib.import_module(f\"envs.{env_module}\")\n",
    "    EnvCls = getattr(mod, \"ModularEnv\")\n",
    "    if xml_filename is None:\n",
    "        xml_filename = os.path.join(XML_DIR, f\"{env_module}.xml\")\n",
    "    env = EnvCls(xml=xml_filename, render_mode=render_mode)\n",
    "    env = TimeLimit(env, max_episode_steps=max_episode_steps)\n",
    "    return env\n",
    "\n",
    "\n",
    "def wrap_vec_env(env, log_dir: Optional[str] = None):\n",
    "    \"\"\"\n",
    "    SB3 호환을 위한 Monitor + DummyVecEnv 래핑(1-env).\n",
    "    \"\"\"\n",
    "    if log_dir is not None:\n",
    "        os.makedirs(log_dir, exist_ok=True)\n",
    "        env = Monitor(env, filename=os.path.join(log_dir, \"monitor.csv\"))\n",
    "    else:\n",
    "        env = Monitor(env)\n",
    "    return DummyVecEnv([lambda: env])\n"
   ]
  },
  {
   "cell_type": "code",
   "execution_count": 3,
   "id": "64a98950",
   "metadata": {},
   "outputs": [],
   "source": [
    "import numpy as np\n",
    "\n",
    "def _to_cv2_ready(frame):\n",
    "    \"\"\"\n",
    "    env.render()가 반환한 frame을 cv2.putText가 안전하게 처리할 수 있도록 정리:\n",
    "    - dtype: uint8\n",
    "    - 채널: 3채널(RGB) 보장 (RGBA면 알파 제거, 흑백이면 3채널로 반복)\n",
    "    - 연속 메모리(C-contiguous)\n",
    "    - writable 보장\n",
    "    \"\"\"\n",
    "    arr = np.asarray(frame)\n",
    "\n",
    "    # 채널/차원 정리\n",
    "    if arr.ndim == 2:  # 흑백 -> 3채널\n",
    "        arr = np.repeat(arr[..., None], 3, axis=2)\n",
    "    elif arr.ndim == 3 and arr.shape[2] == 4:  # RGBA -> RGB\n",
    "        arr = arr[..., :3]\n",
    "\n",
    "    # dtype 정리\n",
    "    if arr.dtype != np.uint8:\n",
    "        if np.issubdtype(arr.dtype, np.floating):\n",
    "            arr = np.clip(arr * 255.0, 0, 255).astype(np.uint8)\n",
    "        else:\n",
    "            arr = arr.astype(np.uint8)\n",
    "\n",
    "    # 연속/쓰기 가능 보장\n",
    "    if not arr.flags.c_contiguous:\n",
    "        arr = np.ascontiguousarray(arr)\n",
    "    if not arr.flags.writeable:\n",
    "        arr = arr.copy()\n",
    "\n",
    "    return arr\n"
   ]
  },
  {
   "cell_type": "code",
   "execution_count": 4,
   "id": "012550d2",
   "metadata": {},
   "outputs": [],
   "source": [
    "def rollout_video_with_sac(\n",
    "    env_name: str,\n",
    "    checkpoint_path: str,\n",
    "    xml: Optional[str] = None,\n",
    "    steps: int = 2000,\n",
    "    seed: int = 0,\n",
    "    fps: int = 30,\n",
    "    device: str = \"auto\",\n",
    "    out_path: Optional[str] = None,\n",
    "    overlay_return: bool = True,\n",
    "    overlay_font_scale: float = 0.6,\n",
    "    overlay_thickness: int = 1,\n",
    "    break_on_episode_end: bool = True,\n",
    ") -> str:\n",
    "    \"\"\"\n",
    "    SB3 SAC 체크포인트(.zip/.pt)를 로드해 env를 실행하고 mp4(video)로 저장합니다.\n",
    "    - env는 render_mode='rgb_array' 로 생성하여 프레임을 수집합니다.\n",
    "    - overlay_return=True면 누적 리턴을 프레임 좌상단에 오버레이합니다.\n",
    "    - break_on_episode_end=True면 첫 에피소드가 끝나면 영상 저장 후 종료합니다.\n",
    "\n",
    "    Returns\n",
    "    -------\n",
    "    out_path : str\n",
    "        저장된 동영상 경로 (mp4 또는 gif)\n",
    "    \"\"\"\n",
    "    assert os.path.exists(checkpoint_path), f\"Checkpoint not found: {checkpoint_path}\"\n",
    "\n",
    "    # 모델 로드\n",
    "    model = SAC.load(checkpoint_path, device=device)\n",
    "\n",
    "    # 캡처용 env\n",
    "    env = make_env(env_name, xml_filename=xml, render_mode=\"rgb_array\")\n",
    "    # (선택) SB3 내부 state 기대를 위해 vec-env를 연결(필수는 아님, 실패해도 무시)\n",
    "    try:\n",
    "        model.set_env(wrap_vec_env(make_env(env_name, xml_filename=xml, render_mode=None)))\n",
    "    except Exception:\n",
    "        pass\n",
    "\n",
    "    # 파일 경로\n",
    "    ts = datetime.now().strftime(\"%Y%m%d_%H%M%S\")\n",
    "    if out_path is None:\n",
    "        data_dir = os.path.join(PROJ_ROOT, \"data\")\n",
    "        os.makedirs(data_dir, exist_ok=True)\n",
    "        out_path = os.path.join(data_dir, f\"{env_name}_{ts}_inference.mp4\")\n",
    "\n",
    "    # 롤아웃\n",
    "    frames = []\n",
    "    cum_ret = 0.0\n",
    "    obs, info = env.reset(seed=seed)\n",
    "\n",
    "    # 오버레이를 위해 cv2가 있으면 사용, 없으면 텍스트 생략\n",
    "    try:\n",
    "        import cv2\n",
    "        use_cv2 = True\n",
    "    except Exception:\n",
    "        use_cv2 = False\n",
    "        overlay_return = False\n",
    "\n",
    "    pbar = tqdm(total=steps, desc=\"Rollout\", ncols=0)\n",
    "    for t in range(steps):\n",
    "        action, _ = model.predict(obs, deterministic=True)\n",
    "        next_obs, reward, terminated, truncated, info = env.step(action)\n",
    "        cum_ret += float(reward)\n",
    "\n",
    "        frame = env.render()\n",
    "        if frame is not None:\n",
    "            try:\n",
    "                frame = np.flipud(frame)  # 상하 반전된 경우 뒤집기\n",
    "                frame = _to_cv2_ready(frame)  # <-- 새 헬퍼로 변환\n",
    "                if overlay_return:\n",
    "                    txt = f\"step: {t}   return: {cum_ret:.3f}\"\n",
    "                    cv2.putText(frame, txt, (10, 24),\n",
    "                                cv2.FONT_HERSHEY_SIMPLEX, overlay_font_scale,\n",
    "                                (255, 255, 255), overlay_thickness, cv2.LINE_AA)\n",
    "                    cv2.putText(frame, txt, (10, 24),\n",
    "                                cv2.FONT_HERSHEY_SIMPLEX, overlay_font_scale,\n",
    "                                (0, 0, 0), max(1, overlay_thickness - 1), cv2.LINE_AA)\n",
    "            except Exception as e:\n",
    "                print(f\"[WARN] overlay 실패: {e}, 텍스트 없이 저장합니다.\")\n",
    "            frames.append(frame)\n",
    "\n",
    "        done = bool(terminated or truncated)\n",
    "        if done:\n",
    "            if break_on_episode_end:\n",
    "                pbar.update(1)\n",
    "                break\n",
    "            # 다음 에피소드로\n",
    "            obs, info = env.reset()\n",
    "            cum_ret = 0.0\n",
    "        else:\n",
    "            obs = next_obs\n",
    "\n",
    "        pbar.update(1)\n",
    "    pbar.close()\n",
    "\n",
    "    # 저장\n",
    "    if len(frames) == 0:\n",
    "        env.close()\n",
    "        raise RuntimeError(\"수집된 프레임이 없습니다. env.render('rgb_array') 지원 여부를 확인하세요.\")\n",
    "\n",
    "    # mp4 우선 시도, 실패 시 gif\n",
    "    saved = False\n",
    "    try:\n",
    "        imageio.mimsave(out_path, frames, fps=fps)  # mp4는 imageio-ffmpeg 필요\n",
    "        saved = True\n",
    "    except Exception as e:\n",
    "        print(f\"[WARN] mp4 저장 실패: {e}\")\n",
    "\n",
    "    if not saved:\n",
    "        alt = out_path.rsplit(\".\", 1)[0] + \".gif\"\n",
    "        imageio.mimsave(alt, frames, fps=fps)\n",
    "        out_path = alt\n",
    "        print(f\"[OK] GIF로 저장: {out_path}\")\n",
    "    else:\n",
    "        print(f\"[OK] MP4 저장: {out_path}\")\n",
    "\n",
    "    env.close()\n",
    "    return out_path\n"
   ]
  },
  {
   "cell_type": "code",
   "execution_count": null,
   "id": "a146c9e3",
   "metadata": {},
   "outputs": [],
   "source": [
    "# ===== 사용자 설정 =====\n",
    "ENV_NAME = \"walker_2_main\"      # 예: \"hopper_4\", \"walker_5_main\"\n",
    "XML_PATH = None                      # None이면 config.XML_DIR/<env>.xml 사용\n",
    "CKPT_PATH = \"./checkpoint/walker_2_main_best.pt\"  # 또는 best_model.zip\n",
    "\n",
    "STEPS   = 1000       # 촬영 스텝 수(첫 에피소드 끝나면 중단하도록 설정 가능)\n",
    "SEED    = 88\n",
    "FPS     = 30\n",
    "DEVICE  = \"cuda\"     # \"cuda\", \"cuda:0\", \"mps\", \"cpu\", \"auto\"\n",
    "OUT_MP4 = 'video/walker_2_main.mp4'       # None이면 data/ 폴더에 자동 생성\n",
    "BREAK_ON_EP_END = True  # True면 첫 에피소드 종료 시 저장하고 끝냄\n"
   ]
  },
  {
   "cell_type": "code",
   "execution_count": 48,
   "id": "72f81db2",
   "metadata": {},
   "outputs": [
    {
     "name": "stderr",
     "output_type": "stream",
     "text": [
      "Rollout:   1% 14/1000 [00:00<00:07, 136.77it/s]"
     ]
    },
    {
     "name": "stdout",
     "output_type": "stream",
     "text": [
      "You are using a GLFW raw input patch. This is not the official GLFW library.\n"
     ]
    },
    {
     "name": "stderr",
     "output_type": "stream",
     "text": [
      "Rollout:  22% 221/1000 [00:01<00:04, 193.43it/s]\n"
     ]
    },
    {
     "name": "stdout",
     "output_type": "stream",
     "text": [
      "[OK] MP4 저장: video/walker_2_main.mp4\n"
     ]
    },
    {
     "data": {
      "text/plain": [
       "'video/walker_2_main.mp4'"
      ]
     },
     "execution_count": 48,
     "metadata": {},
     "output_type": "execute_result"
    }
   ],
   "source": [
    "out = rollout_video_with_sac(\n",
    "    env_name=ENV_NAME,\n",
    "    checkpoint_path=CKPT_PATH,\n",
    "    xml=XML_PATH,\n",
    "    steps=STEPS,\n",
    "    seed=SEED,\n",
    "    fps=FPS,\n",
    "    device=DEVICE,\n",
    "    out_path=OUT_MP4,\n",
    "    overlay_return=True,\n",
    "    overlay_font_scale=0.6,\n",
    "    overlay_thickness=2,\n",
    "    break_on_episode_end=BREAK_ON_EP_END,\n",
    ")\n",
    "out\n"
   ]
  },
  {
   "cell_type": "markdown",
   "id": "55bae090",
   "metadata": {},
   "source": [
    "# 모든 환경에 대해서 저장"
   ]
  },
  {
   "cell_type": "code",
   "execution_count": 5,
   "id": "1a12e4d5",
   "metadata": {},
   "outputs": [],
   "source": [
    "# ===================== 사용자 설정 =====================\n",
    "CHECKPOINT_DIR = \"/dataset/usr012/jmpark/Moudlar_data/checkpoint\"\n",
    "STEPS = 1000\n",
    "SEED = 88\n",
    "FPS = 30\n",
    "DEVICE = \"cuda\"\n",
    "BREAK_ON_EP_END = True\n",
    "\n",
    "# rollout_video_with_sac()은 이미 구현되어 있다고 가정\n",
    "# from your_module import rollout_video_with_sac\n",
    "\n",
    "# ======================================================"
   ]
  },
  {
   "cell_type": "code",
   "execution_count": 6,
   "id": "b632011a",
   "metadata": {},
   "outputs": [
    {
     "name": "stdout",
     "output_type": "stream",
     "text": [
      "\n",
      "[RUN] cheetah_2_back\n",
      " - ckpt: /dataset/usr012/jmpark/Moudlar_data/checkpoint/cheetah_2_back_best.pt\n",
      " - out:  video/cheetah_2_back.mp4\n"
     ]
    },
    {
     "name": "stderr",
     "output_type": "stream",
     "text": [
      "Rollout: 100% 1000/1000 [00:03<00:00, 282.59it/s]\n"
     ]
    },
    {
     "name": "stdout",
     "output_type": "stream",
     "text": [
      "[OK] MP4 저장: video/cheetah_2_back.mp4\n",
      "[DONE] Saved video: video/cheetah_2_back.mp4\n",
      "\n",
      "[RUN] cheetah_2_front\n",
      " - ckpt: /dataset/usr012/jmpark/Moudlar_data/checkpoint/cheetah_2_front_best.pt\n",
      " - out:  video/cheetah_2_front.mp4\n"
     ]
    },
    {
     "name": "stderr",
     "output_type": "stream",
     "text": [
      "Rollout: 100% 1000/1000 [00:03<00:00, 297.67it/s]\n"
     ]
    },
    {
     "name": "stdout",
     "output_type": "stream",
     "text": [
      "[OK] MP4 저장: video/cheetah_2_front.mp4\n",
      "[DONE] Saved video: video/cheetah_2_front.mp4\n",
      "\n",
      "[RUN] cheetah_3_back\n",
      " - ckpt: /dataset/usr012/jmpark/Moudlar_data/checkpoint/cheetah_3_back_best.pt\n",
      " - out:  video/cheetah_3_back.mp4\n"
     ]
    },
    {
     "name": "stderr",
     "output_type": "stream",
     "text": [
      "Rollout: 100% 1000/1000 [00:03<00:00, 282.62it/s]\n"
     ]
    },
    {
     "name": "stdout",
     "output_type": "stream",
     "text": [
      "[OK] MP4 저장: video/cheetah_3_back.mp4\n",
      "[DONE] Saved video: video/cheetah_3_back.mp4\n",
      "\n",
      "[RUN] cheetah_3_balanced\n",
      " - ckpt: /dataset/usr012/jmpark/Moudlar_data/checkpoint/cheetah_3_balanced_best.pt\n",
      " - out:  video/cheetah_3_balanced.mp4\n"
     ]
    },
    {
     "name": "stderr",
     "output_type": "stream",
     "text": [
      "Rollout: 100% 1000/1000 [00:03<00:00, 283.86it/s]\n"
     ]
    },
    {
     "name": "stdout",
     "output_type": "stream",
     "text": [
      "[OK] MP4 저장: video/cheetah_3_balanced.mp4\n",
      "[DONE] Saved video: video/cheetah_3_balanced.mp4\n",
      "\n",
      "[RUN] cheetah_3_front\n",
      " - ckpt: /dataset/usr012/jmpark/Moudlar_data/checkpoint/cheetah_3_front_best.pt\n",
      " - out:  video/cheetah_3_front.mp4\n"
     ]
    },
    {
     "name": "stderr",
     "output_type": "stream",
     "text": [
      "Rollout: 100% 1000/1000 [00:03<00:00, 283.13it/s]\n"
     ]
    },
    {
     "name": "stdout",
     "output_type": "stream",
     "text": [
      "[OK] MP4 저장: video/cheetah_3_front.mp4\n",
      "[DONE] Saved video: video/cheetah_3_front.mp4\n",
      "\n",
      "[RUN] cheetah_4_allback\n",
      " - ckpt: /dataset/usr012/jmpark/Moudlar_data/checkpoint/cheetah_4_allback_best.pt\n",
      " - out:  video/cheetah_4_allback.mp4\n"
     ]
    },
    {
     "name": "stderr",
     "output_type": "stream",
     "text": [
      "Rollout: 100% 1000/1000 [00:03<00:00, 260.11it/s]\n"
     ]
    },
    {
     "name": "stdout",
     "output_type": "stream",
     "text": [
      "[OK] MP4 저장: video/cheetah_4_allback.mp4\n",
      "[DONE] Saved video: video/cheetah_4_allback.mp4\n",
      "\n",
      "[RUN] cheetah_4_allfront\n",
      " - ckpt: /dataset/usr012/jmpark/Moudlar_data/checkpoint/cheetah_4_allfront_best.pt\n",
      " - out:  video/cheetah_4_allfront.mp4\n"
     ]
    },
    {
     "name": "stderr",
     "output_type": "stream",
     "text": [
      "Rollout: 100% 1000/1000 [00:03<00:00, 255.39it/s]\n"
     ]
    },
    {
     "name": "stdout",
     "output_type": "stream",
     "text": [
      "[OK] MP4 저장: video/cheetah_4_allfront.mp4\n",
      "[DONE] Saved video: video/cheetah_4_allfront.mp4\n",
      "\n",
      "[RUN] cheetah_4_back\n",
      " - ckpt: /dataset/usr012/jmpark/Moudlar_data/checkpoint/cheetah_4_back_best.pt\n",
      " - out:  video/cheetah_4_back.mp4\n"
     ]
    },
    {
     "name": "stderr",
     "output_type": "stream",
     "text": [
      "Rollout: 100% 1000/1000 [00:03<00:00, 281.07it/s]\n"
     ]
    },
    {
     "name": "stdout",
     "output_type": "stream",
     "text": [
      "[OK] MP4 저장: video/cheetah_4_back.mp4\n",
      "[DONE] Saved video: video/cheetah_4_back.mp4\n",
      "\n",
      "[RUN] cheetah_4_front\n",
      " - ckpt: /dataset/usr012/jmpark/Moudlar_data/checkpoint/cheetah_4_front_best.pt\n",
      " - out:  video/cheetah_4_front.mp4\n"
     ]
    },
    {
     "name": "stderr",
     "output_type": "stream",
     "text": [
      "Rollout: 100% 1000/1000 [00:03<00:00, 281.23it/s]\n"
     ]
    },
    {
     "name": "stdout",
     "output_type": "stream",
     "text": [
      "[OK] MP4 저장: video/cheetah_4_front.mp4\n",
      "[DONE] Saved video: video/cheetah_4_front.mp4\n",
      "\n",
      "[RUN] cheetah_5_back\n",
      " - ckpt: /dataset/usr012/jmpark/Moudlar_data/checkpoint/cheetah_5_back_best.pt\n",
      " - out:  video/cheetah_5_back.mp4\n"
     ]
    },
    {
     "name": "stderr",
     "output_type": "stream",
     "text": [
      "Rollout: 100% 1000/1000 [00:03<00:00, 277.79it/s]\n"
     ]
    },
    {
     "name": "stdout",
     "output_type": "stream",
     "text": [
      "[OK] MP4 저장: video/cheetah_5_back.mp4\n",
      "[DONE] Saved video: video/cheetah_5_back.mp4\n",
      "\n",
      "[RUN] cheetah_5_balanced\n",
      " - ckpt: /dataset/usr012/jmpark/Moudlar_data/checkpoint/cheetah_5_balanced_best.pt\n",
      " - out:  video/cheetah_5_balanced.mp4\n"
     ]
    },
    {
     "name": "stderr",
     "output_type": "stream",
     "text": [
      "Rollout: 100% 1000/1000 [00:03<00:00, 275.66it/s]\n"
     ]
    },
    {
     "name": "stdout",
     "output_type": "stream",
     "text": [
      "[OK] MP4 저장: video/cheetah_5_balanced.mp4\n",
      "[DONE] Saved video: video/cheetah_5_balanced.mp4\n",
      "\n",
      "[RUN] cheetah_5_front\n",
      " - ckpt: /dataset/usr012/jmpark/Moudlar_data/checkpoint/cheetah_5_front_best.pt\n",
      " - out:  video/cheetah_5_front.mp4\n"
     ]
    },
    {
     "name": "stderr",
     "output_type": "stream",
     "text": [
      "Rollout: 100% 1000/1000 [00:03<00:00, 278.81it/s]\n"
     ]
    },
    {
     "name": "stdout",
     "output_type": "stream",
     "text": [
      "[OK] MP4 저장: video/cheetah_5_front.mp4\n",
      "[DONE] Saved video: video/cheetah_5_front.mp4\n",
      "\n",
      "[RUN] cheetah_6_back\n",
      " - ckpt: /dataset/usr012/jmpark/Moudlar_data/checkpoint/cheetah_6_back_best.pt\n",
      " - out:  video/cheetah_6_back.mp4\n"
     ]
    },
    {
     "name": "stderr",
     "output_type": "stream",
     "text": [
      "Rollout: 100% 1000/1000 [00:03<00:00, 274.20it/s]\n"
     ]
    },
    {
     "name": "stdout",
     "output_type": "stream",
     "text": [
      "[OK] MP4 저장: video/cheetah_6_back.mp4\n",
      "[DONE] Saved video: video/cheetah_6_back.mp4\n",
      "\n",
      "[RUN] cheetah_6_front\n",
      " - ckpt: /dataset/usr012/jmpark/Moudlar_data/checkpoint/cheetah_6_front_best.pt\n",
      " - out:  video/cheetah_6_front.mp4\n"
     ]
    },
    {
     "name": "stderr",
     "output_type": "stream",
     "text": [
      "Rollout: 100% 1000/1000 [00:03<00:00, 278.90it/s]\n"
     ]
    },
    {
     "name": "stdout",
     "output_type": "stream",
     "text": [
      "[OK] MP4 저장: video/cheetah_6_front.mp4\n",
      "[DONE] Saved video: video/cheetah_6_front.mp4\n",
      "\n",
      "[RUN] cheetah_7_full\n",
      " - ckpt: /dataset/usr012/jmpark/Moudlar_data/checkpoint/cheetah_7_full_best.pt\n",
      " - out:  video/cheetah_7_full.mp4\n"
     ]
    },
    {
     "name": "stderr",
     "output_type": "stream",
     "text": [
      "Rollout: 100% 1000/1000 [00:03<00:00, 266.52it/s]\n"
     ]
    },
    {
     "name": "stdout",
     "output_type": "stream",
     "text": [
      "[OK] MP4 저장: video/cheetah_7_full.mp4\n",
      "[DONE] Saved video: video/cheetah_7_full.mp4\n",
      "\n",
      "[RUN] hopper_3\n",
      " - ckpt: /dataset/usr012/jmpark/Moudlar_data/checkpoint/hopper_3_best.pt\n",
      " - out:  video/hopper_3.mp4\n"
     ]
    },
    {
     "name": "stderr",
     "output_type": "stream",
     "text": [
      "Rollout: 100% 1000/1000 [00:03<00:00, 265.97it/s]\n"
     ]
    },
    {
     "name": "stdout",
     "output_type": "stream",
     "text": [
      "[OK] MP4 저장: video/hopper_3.mp4\n",
      "[DONE] Saved video: video/hopper_3.mp4\n",
      "\n",
      "[RUN] hopper_4\n",
      " - ckpt: /dataset/usr012/jmpark/Moudlar_data/checkpoint/hopper_4_best.pt\n",
      " - out:  video/hopper_4.mp4\n"
     ]
    },
    {
     "name": "stderr",
     "output_type": "stream",
     "text": [
      "Rollout: 100% 1000/1000 [00:03<00:00, 260.59it/s]\n"
     ]
    },
    {
     "name": "stdout",
     "output_type": "stream",
     "text": [
      "[OK] MP4 저장: video/hopper_4.mp4\n",
      "[DONE] Saved video: video/hopper_4.mp4\n",
      "\n",
      "[RUN] hopper_5\n",
      " - ckpt: /dataset/usr012/jmpark/Moudlar_data/checkpoint/hopper_5_best.pt\n",
      " - out:  video/hopper_5.mp4\n"
     ]
    },
    {
     "name": "stderr",
     "output_type": "stream",
     "text": [
      "Rollout: 100% 1000/1000 [00:03<00:00, 262.33it/s]\n"
     ]
    },
    {
     "name": "stdout",
     "output_type": "stream",
     "text": [
      "[OK] MP4 저장: video/hopper_5.mp4\n",
      "[DONE] Saved video: video/hopper_5.mp4\n",
      "\n",
      "[RUN] humanoid_2d_7_left_arm\n",
      " - ckpt: /dataset/usr012/jmpark/Moudlar_data/checkpoint/humanoid_2d_7_left_arm_best.pt\n",
      " - out:  video/humanoid_2d_7_left_arm.mp4\n"
     ]
    },
    {
     "name": "stderr",
     "output_type": "stream",
     "text": [
      "Rollout: 100% 1000/1000 [00:03<00:00, 250.57it/s]\n"
     ]
    },
    {
     "name": "stdout",
     "output_type": "stream",
     "text": [
      "[OK] MP4 저장: video/humanoid_2d_7_left_arm.mp4\n",
      "[DONE] Saved video: video/humanoid_2d_7_left_arm.mp4\n",
      "\n",
      "[RUN] humanoid_2d_7_left_leg\n",
      " - ckpt: /dataset/usr012/jmpark/Moudlar_data/checkpoint/humanoid_2d_7_left_leg_best.pt\n",
      " - out:  video/humanoid_2d_7_left_leg.mp4\n"
     ]
    },
    {
     "name": "stderr",
     "output_type": "stream",
     "text": [
      "Rollout: 100% 1000/1000 [00:04<00:00, 247.11it/s]\n"
     ]
    },
    {
     "name": "stdout",
     "output_type": "stream",
     "text": [
      "[OK] MP4 저장: video/humanoid_2d_7_left_leg.mp4\n",
      "[DONE] Saved video: video/humanoid_2d_7_left_leg.mp4\n",
      "\n",
      "[RUN] humanoid_2d_7_lower_arms\n",
      " - ckpt: /dataset/usr012/jmpark/Moudlar_data/checkpoint/humanoid_2d_7_lower_arms_best.pt\n",
      " - out:  video/humanoid_2d_7_lower_arms.mp4\n"
     ]
    },
    {
     "name": "stderr",
     "output_type": "stream",
     "text": [
      "Rollout: 100% 1000/1000 [00:04<00:00, 249.57it/s]\n"
     ]
    },
    {
     "name": "stdout",
     "output_type": "stream",
     "text": [
      "[OK] MP4 저장: video/humanoid_2d_7_lower_arms.mp4\n",
      "[DONE] Saved video: video/humanoid_2d_7_lower_arms.mp4\n",
      "\n",
      "[RUN] humanoid_2d_7_right_arm\n",
      " - ckpt: /dataset/usr012/jmpark/Moudlar_data/checkpoint/humanoid_2d_7_right_arm_best.pt\n",
      " - out:  video/humanoid_2d_7_right_arm.mp4\n"
     ]
    },
    {
     "name": "stderr",
     "output_type": "stream",
     "text": [
      "Rollout: 100% 1000/1000 [00:03<00:00, 254.88it/s]\n"
     ]
    },
    {
     "name": "stdout",
     "output_type": "stream",
     "text": [
      "[OK] MP4 저장: video/humanoid_2d_7_right_arm.mp4\n",
      "[DONE] Saved video: video/humanoid_2d_7_right_arm.mp4\n",
      "\n",
      "[RUN] humanoid_2d_7_right_leg\n",
      " - ckpt: /dataset/usr012/jmpark/Moudlar_data/checkpoint/humanoid_2d_7_right_leg_best.pt\n",
      " - out:  video/humanoid_2d_7_right_leg.mp4\n"
     ]
    },
    {
     "name": "stderr",
     "output_type": "stream",
     "text": [
      "Rollout: 100% 1000/1000 [00:04<00:00, 246.43it/s]\n"
     ]
    },
    {
     "name": "stdout",
     "output_type": "stream",
     "text": [
      "[OK] MP4 저장: video/humanoid_2d_7_right_leg.mp4\n",
      "[DONE] Saved video: video/humanoid_2d_7_right_leg.mp4\n",
      "\n",
      "[RUN] humanoid_2d_8_left_knee\n",
      " - ckpt: /dataset/usr012/jmpark/Moudlar_data/checkpoint/humanoid_2d_8_left_knee_best.pt\n",
      " - out:  video/humanoid_2d_8_left_knee.mp4\n"
     ]
    },
    {
     "name": "stderr",
     "output_type": "stream",
     "text": [
      "Rollout: 100% 1000/1000 [00:04<00:00, 247.65it/s]\n"
     ]
    },
    {
     "name": "stdout",
     "output_type": "stream",
     "text": [
      "[OK] MP4 저장: video/humanoid_2d_8_left_knee.mp4\n",
      "[DONE] Saved video: video/humanoid_2d_8_left_knee.mp4\n",
      "\n",
      "[RUN] humanoid_2d_8_right_knee\n",
      " - ckpt: /dataset/usr012/jmpark/Moudlar_data/checkpoint/humanoid_2d_8_right_knee_best.pt\n",
      " - out:  video/humanoid_2d_8_right_knee.mp4\n"
     ]
    },
    {
     "name": "stderr",
     "output_type": "stream",
     "text": [
      "Rollout: 100% 1000/1000 [00:04<00:00, 243.89it/s]\n"
     ]
    },
    {
     "name": "stdout",
     "output_type": "stream",
     "text": [
      "[OK] MP4 저장: video/humanoid_2d_8_right_knee.mp4\n",
      "[DONE] Saved video: video/humanoid_2d_8_right_knee.mp4\n",
      "\n",
      "[RUN] humanoid_2d_9_full\n",
      " - ckpt: /dataset/usr012/jmpark/Moudlar_data/checkpoint/humanoid_2d_9_full_best.pt\n",
      " - out:  video/humanoid_2d_9_full.mp4\n"
     ]
    },
    {
     "name": "stderr",
     "output_type": "stream",
     "text": [
      "Rollout: 100% 1000/1000 [00:04<00:00, 246.82it/s]\n"
     ]
    },
    {
     "name": "stdout",
     "output_type": "stream",
     "text": [
      "[OK] MP4 저장: video/humanoid_2d_9_full.mp4\n",
      "[DONE] Saved video: video/humanoid_2d_9_full.mp4\n",
      "\n",
      "[RUN] walker_2_flipped\n",
      " - ckpt: /dataset/usr012/jmpark/Moudlar_data/checkpoint/walker_2_flipped_best.pt\n",
      " - out:  video/walker_2_flipped.mp4\n"
     ]
    },
    {
     "name": "stderr",
     "output_type": "stream",
     "text": [
      "Rollout:  21% 213/1000 [00:00<00:02, 265.98it/s]\n"
     ]
    },
    {
     "name": "stdout",
     "output_type": "stream",
     "text": [
      "[OK] MP4 저장: video/walker_2_flipped.mp4\n",
      "[DONE] Saved video: video/walker_2_flipped.mp4\n",
      "\n",
      "[RUN] walker_2_main\n",
      " - ckpt: /dataset/usr012/jmpark/Moudlar_data/checkpoint/walker_2_main_best.pt\n",
      " - out:  video/walker_2_main.mp4\n"
     ]
    },
    {
     "name": "stderr",
     "output_type": "stream",
     "text": [
      "Rollout:  30% 295/1000 [00:01<00:02, 273.01it/s]\n"
     ]
    },
    {
     "name": "stdout",
     "output_type": "stream",
     "text": [
      "[OK] MP4 저장: video/walker_2_main.mp4\n",
      "[DONE] Saved video: video/walker_2_main.mp4\n",
      "\n",
      "[RUN] walker_3_flipped\n",
      " - ckpt: /dataset/usr012/jmpark/Moudlar_data/checkpoint/walker_3_flipped_best.pt\n",
      " - out:  video/walker_3_flipped.mp4\n"
     ]
    },
    {
     "name": "stderr",
     "output_type": "stream",
     "text": [
      "Rollout: 100% 1000/1000 [00:03<00:00, 271.39it/s]\n"
     ]
    },
    {
     "name": "stdout",
     "output_type": "stream",
     "text": [
      "[OK] MP4 저장: video/walker_3_flipped.mp4\n",
      "[DONE] Saved video: video/walker_3_flipped.mp4\n",
      "\n",
      "[RUN] walker_3_main\n",
      " - ckpt: /dataset/usr012/jmpark/Moudlar_data/checkpoint/walker_3_main_best.pt\n",
      " - out:  video/walker_3_main.mp4\n"
     ]
    },
    {
     "name": "stderr",
     "output_type": "stream",
     "text": [
      "Rollout: 100% 1000/1000 [00:03<00:00, 279.58it/s]\n"
     ]
    },
    {
     "name": "stdout",
     "output_type": "stream",
     "text": [
      "[OK] MP4 저장: video/walker_3_main.mp4\n",
      "[DONE] Saved video: video/walker_3_main.mp4\n",
      "\n",
      "[RUN] walker_4_flipped\n",
      " - ckpt: /dataset/usr012/jmpark/Moudlar_data/checkpoint/walker_4_flipped_best.pt\n",
      " - out:  video/walker_4_flipped.mp4\n"
     ]
    },
    {
     "name": "stderr",
     "output_type": "stream",
     "text": [
      "Rollout:  78% 783/1000 [00:02<00:00, 270.28it/s]\n"
     ]
    },
    {
     "name": "stdout",
     "output_type": "stream",
     "text": [
      "[OK] MP4 저장: video/walker_4_flipped.mp4\n",
      "[DONE] Saved video: video/walker_4_flipped.mp4\n",
      "\n",
      "[RUN] walker_4_main\n",
      " - ckpt: /dataset/usr012/jmpark/Moudlar_data/checkpoint/walker_4_main_best.pt\n",
      " - out:  video/walker_4_main.mp4\n"
     ]
    },
    {
     "name": "stderr",
     "output_type": "stream",
     "text": [
      "Rollout: 100% 1000/1000 [00:03<00:00, 277.93it/s]\n"
     ]
    },
    {
     "name": "stdout",
     "output_type": "stream",
     "text": [
      "[OK] MP4 저장: video/walker_4_main.mp4\n",
      "[DONE] Saved video: video/walker_4_main.mp4\n",
      "\n",
      "[RUN] walker_5_flipped\n",
      " - ckpt: /dataset/usr012/jmpark/Moudlar_data/checkpoint/walker_5_flipped_best.pt\n",
      " - out:  video/walker_5_flipped.mp4\n"
     ]
    },
    {
     "name": "stderr",
     "output_type": "stream",
     "text": [
      "Rollout: 100% 1000/1000 [00:03<00:00, 270.62it/s]\n"
     ]
    },
    {
     "name": "stdout",
     "output_type": "stream",
     "text": [
      "[OK] MP4 저장: video/walker_5_flipped.mp4\n",
      "[DONE] Saved video: video/walker_5_flipped.mp4\n",
      "\n",
      "[RUN] walker_5_main\n",
      " - ckpt: /dataset/usr012/jmpark/Moudlar_data/checkpoint/walker_5_main_best.pt\n",
      " - out:  video/walker_5_main.mp4\n"
     ]
    },
    {
     "name": "stderr",
     "output_type": "stream",
     "text": [
      "Rollout: 100% 1000/1000 [00:03<00:00, 273.13it/s]\n"
     ]
    },
    {
     "name": "stdout",
     "output_type": "stream",
     "text": [
      "[OK] MP4 저장: video/walker_5_main.mp4\n",
      "[DONE] Saved video: video/walker_5_main.mp4\n",
      "\n",
      "[RUN] walker_6_flipped\n",
      " - ckpt: /dataset/usr012/jmpark/Moudlar_data/checkpoint/walker_6_flipped_best.pt\n",
      " - out:  video/walker_6_flipped.mp4\n"
     ]
    },
    {
     "name": "stderr",
     "output_type": "stream",
     "text": [
      "Rollout: 100% 1000/1000 [00:03<00:00, 265.59it/s]\n"
     ]
    },
    {
     "name": "stdout",
     "output_type": "stream",
     "text": [
      "[OK] MP4 저장: video/walker_6_flipped.mp4\n",
      "[DONE] Saved video: video/walker_6_flipped.mp4\n",
      "\n",
      "[RUN] walker_6_main\n",
      " - ckpt: /dataset/usr012/jmpark/Moudlar_data/checkpoint/walker_6_main_best.pt\n",
      " - out:  video/walker_6_main.mp4\n"
     ]
    },
    {
     "name": "stderr",
     "output_type": "stream",
     "text": [
      "Rollout: 100% 1000/1000 [00:03<00:00, 264.27it/s]\n"
     ]
    },
    {
     "name": "stdout",
     "output_type": "stream",
     "text": [
      "[OK] MP4 저장: video/walker_6_main.mp4\n",
      "[DONE] Saved video: video/walker_6_main.mp4\n",
      "\n",
      "[RUN] walker_7_flipped\n",
      " - ckpt: /dataset/usr012/jmpark/Moudlar_data/checkpoint/walker_7_flipped_best.pt\n",
      " - out:  video/walker_7_flipped.mp4\n"
     ]
    },
    {
     "name": "stderr",
     "output_type": "stream",
     "text": [
      "Rollout: 100% 1000/1000 [00:04<00:00, 243.47it/s]\n"
     ]
    },
    {
     "name": "stdout",
     "output_type": "stream",
     "text": [
      "[OK] MP4 저장: video/walker_7_flipped.mp4\n",
      "[DONE] Saved video: video/walker_7_flipped.mp4\n",
      "\n",
      "[RUN] walker_7_main\n",
      " - ckpt: /dataset/usr012/jmpark/Moudlar_data/checkpoint/walker_7_main_best.pt\n",
      " - out:  video/walker_7_main.mp4\n"
     ]
    },
    {
     "name": "stderr",
     "output_type": "stream",
     "text": [
      "Rollout: 100% 1000/1000 [00:03<00:00, 262.16it/s]\n"
     ]
    },
    {
     "name": "stdout",
     "output_type": "stream",
     "text": [
      "[OK] MP4 저장: video/walker_7_main.mp4\n",
      "[DONE] Saved video: video/walker_7_main.mp4\n"
     ]
    }
   ],
   "source": [
    "def main():\n",
    "    os.makedirs(\"video\", exist_ok=True)\n",
    "    ckpt_files = sorted(glob(os.path.join(CHECKPOINT_DIR, \"*_best.pt\")))\n",
    "    if not ckpt_files:\n",
    "        print(f\"[WARN] No *_best.pt found in {CHECKPOINT_DIR}\")\n",
    "        return\n",
    "\n",
    "    for ckpt_path in ckpt_files:\n",
    "        base = os.path.basename(ckpt_path)\n",
    "        env_name = base.replace(\"_best.pt\", \"\")\n",
    "        out_path = os.path.join(\"video\", f\"{env_name}.mp4\")\n",
    "\n",
    "        print(f\"\\n[RUN] {env_name}\")\n",
    "        print(f\" - ckpt: {ckpt_path}\")\n",
    "        print(f\" - out:  {out_path}\")\n",
    "\n",
    "        try:\n",
    "            out = rollout_video_with_sac(\n",
    "                env_name=env_name,\n",
    "                checkpoint_path=ckpt_path,\n",
    "                xml=None,\n",
    "                steps=STEPS,\n",
    "                seed=SEED,\n",
    "                fps=FPS,\n",
    "                device=DEVICE,\n",
    "                out_path=out_path,\n",
    "                overlay_return=True,\n",
    "                overlay_font_scale=0.6,\n",
    "                overlay_thickness=2,\n",
    "                break_on_episode_end=BREAK_ON_EP_END,\n",
    "            )\n",
    "        except Exception as e:\n",
    "            print(f\"[ERROR] Failed for {env_name}: {e}\")\n",
    "        else:\n",
    "            print(f\"[DONE] Saved video: {out_path}\")\n",
    "\n",
    "if __name__ == \"__main__\":\n",
    "    main()"
   ]
  },
  {
   "cell_type": "code",
   "execution_count": null,
   "id": "c64bbc2f",
   "metadata": {},
   "outputs": [],
   "source": []
  }
 ],
 "metadata": {
  "kernelspec": {
   "display_name": "gymdata",
   "language": "python",
   "name": "python3"
  },
  "language_info": {
   "codemirror_mode": {
    "name": "ipython",
    "version": 3
   },
   "file_extension": ".py",
   "mimetype": "text/x-python",
   "name": "python",
   "nbconvert_exporter": "python",
   "pygments_lexer": "ipython3",
   "version": "3.10.18"
  }
 },
 "nbformat": 4,
 "nbformat_minor": 5
}
