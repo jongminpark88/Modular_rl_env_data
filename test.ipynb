{
 "cells": [
  {
   "cell_type": "code",
   "execution_count": 4,
   "id": "e5ad2803",
   "metadata": {},
   "outputs": [],
   "source": [
    "import os, time\n",
    "from config import XML_DIR\n",
    "#from envs.walker_2_main import ModularEnv\n",
    "#from envs.walker_3_main import ModularEnv\n",
    "#from envs.walker_4_main import ModularEnv\n",
    "#from envs.walker_5_main import ModularEnv\n",
    "#from envs.walker_6_main import ModularEnv\n",
    "#from envs.walker_7_main import ModularEnv\n",
    "#from envs.cheetah_5_balanced import ModularEnv\n",
    "# from envs.cheetah_4_allback import ModularEnv\n",
    "from envs.humanoid_2d_8_right_knee import ModularEnv"
   ]
  },
  {
   "cell_type": "code",
   "execution_count": 5,
   "id": "7dd6972e",
   "metadata": {},
   "outputs": [
    {
     "name": "stdout",
     "output_type": "stream",
     "text": [
      "You are using a GLFW raw input patch. This is not the official GLFW library.\n"
     ]
    }
   ],
   "source": [
    "xml = os.path.join(XML_DIR, \"humanoid_2d_8_right_knee.xml\")  # 또는 실제 파일명 \"hopper_4_balanced.xml\" 등으로 교체\n",
    "env = ModularEnv(xml=xml, render_mode=\"human\")\n",
    "\n",
    "obs, info = env.reset(seed=42)\n",
    "for _ in range(5000):\n",
    "    a = env.action_space.sample()\n",
    "    obs, r, term, trunc, info = env.step(a)\n",
    "    env.render()\n",
    "    time.sleep(0.01)\n",
    "    if term or trunc:\n",
    "        break\n",
    "env.close()"
   ]
  },
  {
   "cell_type": "code",
   "execution_count": null,
   "id": "b05164d9",
   "metadata": {},
   "outputs": [],
   "source": []
  }
 ],
 "metadata": {
  "kernelspec": {
   "display_name": "gymdata",
   "language": "python",
   "name": "python3"
  },
  "language_info": {
   "codemirror_mode": {
    "name": "ipython",
    "version": 3
   },
   "file_extension": ".py",
   "mimetype": "text/x-python",
   "name": "python",
   "nbconvert_exporter": "python",
   "pygments_lexer": "ipython3",
   "version": "3.10.18"
  }
 },
 "nbformat": 4,
 "nbformat_minor": 5
}
