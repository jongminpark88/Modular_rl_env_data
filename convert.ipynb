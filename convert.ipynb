{
 "cells": [
  {
   "cell_type": "code",
   "execution_count": 1,
   "id": "ea4675ec",
   "metadata": {},
   "outputs": [],
   "source": [
    "import sys, mujoco, os"
   ]
  },
  {
   "cell_type": "code",
   "execution_count": null,
   "id": "8e166239",
   "metadata": {},
   "outputs": [],
   "source": [
    "IN_DIR = \"xmls\"\n",
    "OUT_DIR = \"converted_xmls\""
   ]
  },
  {
   "cell_type": "code",
   "execution_count": null,
   "id": "dba06b8c",
   "metadata": {},
   "outputs": [],
   "source": [
    "model = mujoco.MjModel.from_xml_path(in_path)\n",
    "mujoco.mj_saveLastXML(out_path, model)\n",
    "print(\"Saved:\", out_path)"
   ]
  },
  {
   "cell_type": "code",
   "execution_count": null,
   "id": "dcd60c2b",
   "metadata": {},
   "outputs": [],
   "source": []
  }
 ],
 "metadata": {
  "kernelspec": {
   "display_name": "mj233",
   "language": "python",
   "name": "python3"
  },
  "language_info": {
   "codemirror_mode": {
    "name": "ipython",
    "version": 3
   },
   "file_extension": ".py",
   "mimetype": "text/x-python",
   "name": "python",
   "nbconvert_exporter": "python",
   "pygments_lexer": "ipython3",
   "version": "3.10.18"
  }
 },
 "nbformat": 4,
 "nbformat_minor": 5
}
