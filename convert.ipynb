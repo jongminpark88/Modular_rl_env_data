{
 "cells": [
  {
   "cell_type": "code",
   "execution_count": 1,
   "id": "ea4675ec",
   "metadata": {},
   "outputs": [],
   "source": [
    "import os\n",
    "import glob\n",
    "import mujoco"
   ]
  },
  {
   "cell_type": "code",
   "execution_count": 2,
   "id": "8e166239",
   "metadata": {},
   "outputs": [],
   "source": [
    "IN_DIR = \"xmls\"\n",
    "OUT_DIR = \"xmls_converted\""
   ]
  },
  {
   "cell_type": "code",
   "execution_count": 3,
   "id": "5cd13fc0",
   "metadata": {},
   "outputs": [],
   "source": [
    "pattern = os.path.join(IN_DIR, \"*.xml\")\n",
    "xml_paths = sorted(glob.glob(pattern))"
   ]
  },
  {
   "cell_type": "code",
   "execution_count": 4,
   "id": "b79e791e",
   "metadata": {},
   "outputs": [
    {
     "name": "stdout",
     "output_type": "stream",
     "text": [
      "Found 38 XML files in xmls\n"
     ]
    }
   ],
   "source": [
    "if not xml_paths:\n",
    "    print(f\"No XML files found in: {IN_DIR}\")\n",
    "else:\n",
    "    print(f\"Found {len(xml_paths)} XML files in {IN_DIR}\")"
   ]
  },
  {
   "cell_type": "code",
   "execution_count": 5,
   "id": "2a3b679e",
   "metadata": {},
   "outputs": [
    {
     "name": "stdout",
     "output_type": "stream",
     "text": [
      "[OK] xmls/cheetah_2_back.xml -> xmls_converted/cheetah_2_back.xml\n",
      "[OK] xmls/cheetah_2_front.xml -> xmls_converted/cheetah_2_front.xml\n",
      "[OK] xmls/cheetah_3_back.xml -> xmls_converted/cheetah_3_back.xml\n",
      "[OK] xmls/cheetah_3_balanced.xml -> xmls_converted/cheetah_3_balanced.xml\n",
      "[OK] xmls/cheetah_3_front.xml -> xmls_converted/cheetah_3_front.xml\n",
      "[OK] xmls/cheetah_4_allback.xml -> xmls_converted/cheetah_4_allback.xml\n",
      "[OK] xmls/cheetah_4_allfront.xml -> xmls_converted/cheetah_4_allfront.xml\n",
      "[OK] xmls/cheetah_4_back.xml -> xmls_converted/cheetah_4_back.xml\n",
      "[OK] xmls/cheetah_4_front.xml -> xmls_converted/cheetah_4_front.xml\n",
      "[OK] xmls/cheetah_5_back.xml -> xmls_converted/cheetah_5_back.xml\n",
      "[OK] xmls/cheetah_5_balanced.xml -> xmls_converted/cheetah_5_balanced.xml\n",
      "[OK] xmls/cheetah_5_front.xml -> xmls_converted/cheetah_5_front.xml\n",
      "[OK] xmls/cheetah_6_back.xml -> xmls_converted/cheetah_6_back.xml\n",
      "[OK] xmls/cheetah_6_front.xml -> xmls_converted/cheetah_6_front.xml\n",
      "[OK] xmls/cheetah_7_full.xml -> xmls_converted/cheetah_7_full.xml\n",
      "[OK] xmls/hopper_3.xml -> xmls_converted/hopper_3.xml\n",
      "[OK] xmls/hopper_4.xml -> xmls_converted/hopper_4.xml\n",
      "[OK] xmls/hopper_5.xml -> xmls_converted/hopper_5.xml\n",
      "[OK] xmls/humanoid_2d_7_left_arm.xml -> xmls_converted/humanoid_2d_7_left_arm.xml\n",
      "[OK] xmls/humanoid_2d_7_left_leg.xml -> xmls_converted/humanoid_2d_7_left_leg.xml\n",
      "[OK] xmls/humanoid_2d_7_lower_arms.xml -> xmls_converted/humanoid_2d_7_lower_arms.xml\n",
      "[OK] xmls/humanoid_2d_7_right_arm.xml -> xmls_converted/humanoid_2d_7_right_arm.xml\n",
      "[OK] xmls/humanoid_2d_7_right_leg.xml -> xmls_converted/humanoid_2d_7_right_leg.xml\n",
      "[OK] xmls/humanoid_2d_8_left_knee.xml -> xmls_converted/humanoid_2d_8_left_knee.xml\n",
      "[OK] xmls/humanoid_2d_8_right_knee.xml -> xmls_converted/humanoid_2d_8_right_knee.xml\n",
      "[OK] xmls/humanoid_2d_9_full.xml -> xmls_converted/humanoid_2d_9_full.xml\n",
      "[OK] xmls/walker_2_flipped.xml -> xmls_converted/walker_2_flipped.xml\n",
      "[OK] xmls/walker_2_main.xml -> xmls_converted/walker_2_main.xml\n",
      "[OK] xmls/walker_3_flipped.xml -> xmls_converted/walker_3_flipped.xml\n",
      "[OK] xmls/walker_3_main.xml -> xmls_converted/walker_3_main.xml\n",
      "[OK] xmls/walker_4_flipped.xml -> xmls_converted/walker_4_flipped.xml\n",
      "[OK] xmls/walker_4_main.xml -> xmls_converted/walker_4_main.xml\n",
      "[OK] xmls/walker_5_flipped.xml -> xmls_converted/walker_5_flipped.xml\n",
      "[OK] xmls/walker_5_main.xml -> xmls_converted/walker_5_main.xml\n",
      "[OK] xmls/walker_6_flipped.xml -> xmls_converted/walker_6_flipped.xml\n",
      "[OK] xmls/walker_6_main.xml -> xmls_converted/walker_6_main.xml\n",
      "[OK] xmls/walker_7_flipped.xml -> xmls_converted/walker_7_flipped.xml\n",
      "[OK] xmls/walker_7_main.xml -> xmls_converted/walker_7_main.xml\n",
      "\n",
      "Done. Converted=38, Failed=0, Output dir=xmls_converted\n"
     ]
    }
   ],
   "source": [
    "ok, fail = 0, 0\n",
    "for in_path in xml_paths:\n",
    "    try:\n",
    "        # include 경로는 XML 파일 위치 기준 상대경로로 처리됩니다.\n",
    "        model = mujoco.MjModel.from_xml_path(in_path)\n",
    "        out_path = os.path.join(OUT_DIR, os.path.basename(in_path))\n",
    "        mujoco.mj_saveLastXML(out_path, model)\n",
    "        ok += 1\n",
    "        print(f\"[OK] {in_path} -> {out_path}\")\n",
    "    except Exception as e:\n",
    "        fail += 1\n",
    "        print(f\"[FAIL] {in_path}: {e}\")\n",
    "\n",
    "print(f\"\\nDone. Converted={ok}, Failed={fail}, Output dir={OUT_DIR}\")"
   ]
  },
  {
   "cell_type": "code",
   "execution_count": null,
   "id": "dcd60c2b",
   "metadata": {},
   "outputs": [],
   "source": []
  }
 ],
 "metadata": {
  "kernelspec": {
   "display_name": "mj233",
   "language": "python",
   "name": "python3"
  },
  "language_info": {
   "codemirror_mode": {
    "name": "ipython",
    "version": 3
   },
   "file_extension": ".py",
   "mimetype": "text/x-python",
   "name": "python",
   "nbconvert_exporter": "python",
   "pygments_lexer": "ipython3",
   "version": "3.10.18"
  }
 },
 "nbformat": 4,
 "nbformat_minor": 5
}
