{
 "cells": [
  {
   "cell_type": "code",
   "execution_count": 5,
   "id": "37589ce6",
   "metadata": {},
   "outputs": [],
   "source": [
    "import os\n",
    "import glob\n",
    "import pandas as pd\n",
    "import matplotlib.pyplot as plt\n",
    "import math"
   ]
  },
  {
   "cell_type": "code",
   "execution_count": 6,
   "id": "fb3a3487",
   "metadata": {},
   "outputs": [],
   "source": [
    "# --- 설정 ---\n",
    "DATA_PATH = '/dataset/usr012/jmpark/Moudlar_data/data'\n",
    "FILE_PATTERN = '*train.csv.gz'\n",
    "DONE_CONDITIONS = [1, 2]  # 0이 아닌 값 (1 또는 2)\n",
    "MA_WINDOW = 100           # 이동 평균 윈도우 (100개 에피소드 평균)\n",
    "\n",
    "# 서브플롯 설정\n",
    "PLOTS_PER_FIG = 6\n",
    "PLOT_ROWS = 3\n",
    "PLOT_COLS = 2"
   ]
  },
  {
   "cell_type": "code",
   "execution_count": 7,
   "id": "882a29be",
   "metadata": {},
   "outputs": [],
   "source": [
    "# 1. 파일 리스트 가져오기\n",
    "file_list = sorted(glob.glob(os.path.join(DATA_PATH, FILE_PATTERN)))\n",
    "num_files = len(file_list)"
   ]
  },
  {
   "cell_type": "code",
   "execution_count": 8,
   "id": "635e20a4",
   "metadata": {},
   "outputs": [
    {
     "name": "stdout",
     "output_type": "stream",
     "text": [
      "총 38개의 파일을 찾았습니다. 그래프 생성을 시작합니다...\n"
     ]
    }
   ],
   "source": [
    "if num_files == 0:\n",
    "    print(f\"경고: {DATA_PATH} 경로에서 '{FILE_PATTERN}' 파일을 찾을 수 없습니다.\")\n",
    "else:\n",
    "    print(f\"총 {num_files}개의 파일을 찾았습니다. 그래프 생성을 시작합니다...\")"
   ]
  },
  {
   "cell_type": "code",
   "execution_count": null,
   "id": "fbf2c52f",
   "metadata": {},
   "outputs": [],
   "source": [
    "# 2. 6개씩 묶어서 그래프 그리기\n",
    "num_figures = math.ceil(num_files / PLOTS_PER_FIG)\n",
    "file_iterator = iter(file_list) # 파일 리스트를 순회할 이터레이터\n",
    "\n",
    "for fig_idx in range(num_figures):\n",
    "    # 새 Figure 생성\n",
    "    fig, axes = plt.subplots(PLOT_ROWS, PLOT_COLS, figsize=(15, 12))\n",
    "    # 1D 배열로 변환하여 쉽게 접근\n",
    "    axes = axes.flatten()\n",
    "    \n",
    "    # 3. 서브플롯 채우기 (최대 6개)\n",
    "    for ax_idx in range(PLOTS_PER_FIG):\n",
    "        try:\n",
    "            # 다음 파일 가져오기\n",
    "            file_path = next(file_iterator)\n",
    "            filename = os.path.basename(file_path)\n",
    "            ax = axes[ax_idx] # 현재 축 선택\n",
    "            \n",
    "            print(f\"처리 중: {filename}...\")\n",
    "\n",
    "            # 4. 데이터 로드 (메모리 효율을 위해 필요한 컬럼만)\n",
    "            try:\n",
    "                df = pd.read_csv(\n",
    "                    file_path,\n",
    "                    compression='gzip',\n",
    "                    usecols=['reward', 'done_code'] # ★★★ 핵심 ★★★\n",
    "                )\n",
    "            except Exception as e:\n",
    "                print(f\"  오류: {filename} 파일 로드 실패. {e}\")\n",
    "                ax.set_title(f\"{filename}\\n(파일 로드 실패)\", color='red')\n",
    "                continue\n",
    "\n",
    "            episode_rewards = []\n",
    "            episode_end_steps = []\n",
    "            current_episode_reward = 0.0\n",
    "\n",
    "            # 5. 데이터를 순회하며 에피소드 리워드 계산\n",
    "            for step, (reward, done_code) in enumerate(df.itertuples(index=False)):\n",
    "                current_episode_reward += reward\n",
    "                \n",
    "                # done_code가 0이 아니면 (1 또는 2) 에피소드 종료\n",
    "                if done_code in DONE_CONDITIONS:\n",
    "                    episode_rewards.append(current_episode_reward)\n",
    "                    episode_end_steps.append(step) # 종료 시점의 '전체 스텝'\n",
    "                    current_episode_reward = 0.0 # 리워드 초기화\n",
    "\n",
    "            if not episode_rewards:\n",
    "                print(f\"  경고: {filename}에 완료된 에피소드가 없습니다.\")\n",
    "                ax.set_title(f\"{filename}\\n(완료된 에피소드 없음)\", color='orange')\n",
    "                continue\n",
    "\n",
    "            # 6. 이동 평균 계산 및 그래프 그리기\n",
    "            rewards_series = pd.Series(episode_rewards)\n",
    "            moving_avg = rewards_series.rolling(window=MA_WINDOW, min_periods=1).mean()\n",
    "\n",
    "            ax.plot(episode_end_steps, moving_avg) # X축: 에피소드 종료 스텝, Y축: 이동 평균 리워드\n",
    "            ax.set_title(filename)\n",
    "            ax.set_xlabel(\"Timestep\")\n",
    "            ax.set_ylabel(f\"Episode Reward (MA {MA_WINDOW})\")\n",
    "            ax.grid(True)\n",
    "\n",
    "        except StopIteration:\n",
    "            # 처리할 파일이 더 없으면 남은 subplot을 끈다\n",
    "            axes[ax_idx].axis('off')\n",
    "\n",
    "    # Figure 저장 및 출력\n",
    "    fig_filename = f\"training_rewards_figure_{fig_idx + 1}.png\"\n",
    "    plt.suptitle(f\"Training Progress (Figure {fig_idx + 1}/{num_figures})\", fontsize=16)\n",
    "    plt.tight_layout(rect=[0, 0.03, 1, 0.95]) # suptitle과 겹치지 않게\n",
    "    plt.savefig(fig_filename)\n",
    "    print(f\"--- {fig_filename} 저장 완료 ---\")\n",
    "    plt.show() # 주피터 노트북 등이 아니면 주석 처리\n",
    "    plt.close(fig) # 메모리 해제\n",
    "\n",
    "print(\"모든 그래프 생성이 완료되었습니다.\")"
   ]
  }
 ],
 "metadata": {
  "kernelspec": {
   "display_name": "gymdata",
   "language": "python",
   "name": "python3"
  },
  "language_info": {
   "codemirror_mode": {
    "name": "ipython",
    "version": 3
   },
   "file_extension": ".py",
   "mimetype": "text/x-python",
   "name": "python",
   "nbconvert_exporter": "python",
   "pygments_lexer": "ipython3",
   "version": "3.10.18"
  }
 },
 "nbformat": 4,
 "nbformat_minor": 5
}
